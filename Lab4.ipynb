{
  "nbformat": 4,
  "nbformat_minor": 0,
  "metadata": {
    "colab": {
      "provenance": [],
      "authorship_tag": "ABX9TyMfkB5fXisYEPqIqtpJ+rZb",
      "include_colab_link": true
    },
    "kernelspec": {
      "name": "python3",
      "display_name": "Python 3"
    },
    "language_info": {
      "name": "python"
    }
  },
  "cells": [
    {
      "cell_type": "markdown",
      "metadata": {
        "id": "view-in-github",
        "colab_type": "text"
      },
      "source": [
        "<a href=\"https://colab.research.google.com/github/ienoiaa/ienoia/blob/master/Lab4.ipynb\" target=\"_parent\"><img src=\"https://colab.research.google.com/assets/colab-badge.svg\" alt=\"Open In Colab\"/></a>"
      ]
    },
    {
      "cell_type": "code",
      "execution_count": 4,
      "metadata": {
        "colab": {
          "base_uri": "https://localhost:8080/"
        },
        "id": "nwAiyMLzx2zc",
        "outputId": "f85723ff-6ada-4d9f-fb78-cd75e3a72a10"
      },
      "outputs": [
        {
          "output_type": "stream",
          "name": "stdout",
          "text": [
            "   Order_ID  Customer_ID   Product   Name      City\n",
            "0       101          301    Laptop   John  New York\n",
            "1       102          303     Mouse   John  New York\n",
            "2       103          304  Keyboard  James   Houston\n",
            "   Order_ID  Customer_ID   Product   Name      City\n",
            "0       101          301    Laptop   John  New York\n",
            "1       102          303     Mouse   John  New York\n",
            "2       103          304  Keyboard  James   Houston\n",
            "   Order_ID  Customer_ID   Product   Name      City\n",
            "0     101.0          301    Laptop   John  New York\n",
            "1       NaN          302       NaN   Mary   Chicago\n",
            "2     102.0          303     Mouse   John  New York\n",
            "3     103.0          304  Keyboard  James   Houston\n"
          ]
        }
      ],
      "source": [
        "import pandas as pd\n",
        "df_orders = pd.read_csv(\"orders.csv\")\n",
        "df_customers = pd.read_csv(\"customers.csv\")\n",
        "inner_df = df_orders.merge(df_customers, on=\"Customer_ID\",\n",
        "how=\"inner\")\n",
        "print(inner_df)\n",
        "left_df = df_orders.merge(df_customers, on=\"Customer_ID\", how=\"left\")\n",
        "print(left_df)\n",
        "outer_df = df_orders.merge(df_customers, on=\"Customer_ID\",\n",
        "how=\"outer\")\n",
        "print(outer_df)"
      ]
    }
  ]
}