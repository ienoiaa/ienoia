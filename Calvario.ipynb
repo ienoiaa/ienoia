{
  "nbformat": 4,
  "nbformat_minor": 0,
  "metadata": {
    "colab": {
      "provenance": [],
      "authorship_tag": "ABX9TyPQaGQV/ICumd60iHPYOWtJ",
      "include_colab_link": true
    },
    "kernelspec": {
      "name": "python3",
      "display_name": "Python 3"
    },
    "language_info": {
      "name": "python"
    }
  },
  "cells": [
    {
      "cell_type": "markdown",
      "metadata": {
        "id": "view-in-github",
        "colab_type": "text"
      },
      "source": [
        "<a href=\"https://colab.research.google.com/github/ienoiaa/ienoia/blob/master/Calvario.ipynb\" target=\"_parent\"><img src=\"https://colab.research.google.com/assets/colab-badge.svg\" alt=\"Open In Colab\"/></a>"
      ]
    },
    {
      "cell_type": "markdown",
      "source": [
        "1. Do the preliminary EDA processes."
      ],
      "metadata": {
        "id": "4cn8wrmMHflS"
      }
    },
    {
      "cell_type": "markdown",
      "source": [
        "a. Import libraries\n",
        "\n",
        "b. Loading the data\n"
      ],
      "metadata": {
        "id": "m7G9lM9YHlyx"
      }
    },
    {
      "cell_type": "code",
      "source": [
        "import pandas as pd\n",
        "import matplotlib.pyplot as plt\n",
        "import seaborn as sns\n",
        "\n",
        "dssc = pd.read_csv(\"ds_salaries_clean.csv\")"
      ],
      "metadata": {
        "id": "e3znOOLFHrVp"
      },
      "execution_count": 76,
      "outputs": []
    },
    {
      "cell_type": "markdown",
      "source": [
        "c. Checking the first 5 rows"
      ],
      "metadata": {
        "id": "MgUmyaeVIc1w"
      }
    },
    {
      "cell_type": "code",
      "source": [
        "print(\"First 5 rows\")\n",
        "dssc.head()"
      ],
      "metadata": {
        "colab": {
          "base_uri": "https://localhost:8080/",
          "height": 382
        },
        "id": "LpQe7qyqIer5",
        "outputId": "2b7131fd-dd2c-4922-e7d8-c7af6d857719"
      },
      "execution_count": 56,
      "outputs": [
        {
          "output_type": "stream",
          "name": "stdout",
          "text": [
            "First 5 rows\n"
          ]
        },
        {
          "output_type": "execute_result",
          "data": {
            "text/plain": [
              "   Working_Year                 Designation Experience Employment_Status  \\\n",
              "0          2020              Data Scientist        Mid                FT   \n",
              "1          2020  Machine Learning Scientist     Senior                FT   \n",
              "2          2020           Big Data Engineer     Senior                FT   \n",
              "3          2020        Product Data Analyst        Mid                FT   \n",
              "4          2020   Machine Learning Engineer     Senior                FT   \n",
              "\n",
              "  Employee_Location Company_Size  Remote_Working_Ratio Salary_Rupee  \\\n",
              "0                DE            L                     0       76,227   \n",
              "1                JP            S                     0      248,257   \n",
              "2                GB            M                    50      104,100   \n",
              "3                HN            S                     0          NaN   \n",
              "4                US            L                    50      143,225   \n",
              "\n",
              "   Unnamed: 8  Unnamed: 9 Unnamed: 10  \n",
              "0         NaN         NaN         NaN  \n",
              "1         NaN         NaN         NaN  \n",
              "2         NaN         NaN         NaN  \n",
              "3         NaN         NaN         NaN  \n",
              "4         NaN         NaN         NaN  "
            ],
            "text/html": [
              "\n",
              "  <div id=\"df-1d720b8f-a52d-4c85-983f-725ec3247e04\" class=\"colab-df-container\">\n",
              "    <div>\n",
              "<style scoped>\n",
              "    .dataframe tbody tr th:only-of-type {\n",
              "        vertical-align: middle;\n",
              "    }\n",
              "\n",
              "    .dataframe tbody tr th {\n",
              "        vertical-align: top;\n",
              "    }\n",
              "\n",
              "    .dataframe thead th {\n",
              "        text-align: right;\n",
              "    }\n",
              "</style>\n",
              "<table border=\"1\" class=\"dataframe\">\n",
              "  <thead>\n",
              "    <tr style=\"text-align: right;\">\n",
              "      <th></th>\n",
              "      <th>Working_Year</th>\n",
              "      <th>Designation</th>\n",
              "      <th>Experience</th>\n",
              "      <th>Employment_Status</th>\n",
              "      <th>Employee_Location</th>\n",
              "      <th>Company_Size</th>\n",
              "      <th>Remote_Working_Ratio</th>\n",
              "      <th>Salary_Rupee</th>\n",
              "      <th>Unnamed: 8</th>\n",
              "      <th>Unnamed: 9</th>\n",
              "      <th>Unnamed: 10</th>\n",
              "    </tr>\n",
              "  </thead>\n",
              "  <tbody>\n",
              "    <tr>\n",
              "      <th>0</th>\n",
              "      <td>2020</td>\n",
              "      <td>Data Scientist</td>\n",
              "      <td>Mid</td>\n",
              "      <td>FT</td>\n",
              "      <td>DE</td>\n",
              "      <td>L</td>\n",
              "      <td>0</td>\n",
              "      <td>76,227</td>\n",
              "      <td>NaN</td>\n",
              "      <td>NaN</td>\n",
              "      <td>NaN</td>\n",
              "    </tr>\n",
              "    <tr>\n",
              "      <th>1</th>\n",
              "      <td>2020</td>\n",
              "      <td>Machine Learning Scientist</td>\n",
              "      <td>Senior</td>\n",
              "      <td>FT</td>\n",
              "      <td>JP</td>\n",
              "      <td>S</td>\n",
              "      <td>0</td>\n",
              "      <td>248,257</td>\n",
              "      <td>NaN</td>\n",
              "      <td>NaN</td>\n",
              "      <td>NaN</td>\n",
              "    </tr>\n",
              "    <tr>\n",
              "      <th>2</th>\n",
              "      <td>2020</td>\n",
              "      <td>Big Data Engineer</td>\n",
              "      <td>Senior</td>\n",
              "      <td>FT</td>\n",
              "      <td>GB</td>\n",
              "      <td>M</td>\n",
              "      <td>50</td>\n",
              "      <td>104,100</td>\n",
              "      <td>NaN</td>\n",
              "      <td>NaN</td>\n",
              "      <td>NaN</td>\n",
              "    </tr>\n",
              "    <tr>\n",
              "      <th>3</th>\n",
              "      <td>2020</td>\n",
              "      <td>Product Data Analyst</td>\n",
              "      <td>Mid</td>\n",
              "      <td>FT</td>\n",
              "      <td>HN</td>\n",
              "      <td>S</td>\n",
              "      <td>0</td>\n",
              "      <td>NaN</td>\n",
              "      <td>NaN</td>\n",
              "      <td>NaN</td>\n",
              "      <td>NaN</td>\n",
              "    </tr>\n",
              "    <tr>\n",
              "      <th>4</th>\n",
              "      <td>2020</td>\n",
              "      <td>Machine Learning Engineer</td>\n",
              "      <td>Senior</td>\n",
              "      <td>FT</td>\n",
              "      <td>US</td>\n",
              "      <td>L</td>\n",
              "      <td>50</td>\n",
              "      <td>143,225</td>\n",
              "      <td>NaN</td>\n",
              "      <td>NaN</td>\n",
              "      <td>NaN</td>\n",
              "    </tr>\n",
              "  </tbody>\n",
              "</table>\n",
              "</div>\n",
              "    <div class=\"colab-df-buttons\">\n",
              "\n",
              "  <div class=\"colab-df-container\">\n",
              "    <button class=\"colab-df-convert\" onclick=\"convertToInteractive('df-1d720b8f-a52d-4c85-983f-725ec3247e04')\"\n",
              "            title=\"Convert this dataframe to an interactive table.\"\n",
              "            style=\"display:none;\">\n",
              "\n",
              "  <svg xmlns=\"http://www.w3.org/2000/svg\" height=\"24px\" viewBox=\"0 -960 960 960\">\n",
              "    <path d=\"M120-120v-720h720v720H120Zm60-500h600v-160H180v160Zm220 220h160v-160H400v160Zm0 220h160v-160H400v160ZM180-400h160v-160H180v160Zm440 0h160v-160H620v160ZM180-180h160v-160H180v160Zm440 0h160v-160H620v160Z\"/>\n",
              "  </svg>\n",
              "    </button>\n",
              "\n",
              "  <style>\n",
              "    .colab-df-container {\n",
              "      display:flex;\n",
              "      gap: 12px;\n",
              "    }\n",
              "\n",
              "    .colab-df-convert {\n",
              "      background-color: #E8F0FE;\n",
              "      border: none;\n",
              "      border-radius: 50%;\n",
              "      cursor: pointer;\n",
              "      display: none;\n",
              "      fill: #1967D2;\n",
              "      height: 32px;\n",
              "      padding: 0 0 0 0;\n",
              "      width: 32px;\n",
              "    }\n",
              "\n",
              "    .colab-df-convert:hover {\n",
              "      background-color: #E2EBFA;\n",
              "      box-shadow: 0px 1px 2px rgba(60, 64, 67, 0.3), 0px 1px 3px 1px rgba(60, 64, 67, 0.15);\n",
              "      fill: #174EA6;\n",
              "    }\n",
              "\n",
              "    .colab-df-buttons div {\n",
              "      margin-bottom: 4px;\n",
              "    }\n",
              "\n",
              "    [theme=dark] .colab-df-convert {\n",
              "      background-color: #3B4455;\n",
              "      fill: #D2E3FC;\n",
              "    }\n",
              "\n",
              "    [theme=dark] .colab-df-convert:hover {\n",
              "      background-color: #434B5C;\n",
              "      box-shadow: 0px 1px 3px 1px rgba(0, 0, 0, 0.15);\n",
              "      filter: drop-shadow(0px 1px 2px rgba(0, 0, 0, 0.3));\n",
              "      fill: #FFFFFF;\n",
              "    }\n",
              "  </style>\n",
              "\n",
              "    <script>\n",
              "      const buttonEl =\n",
              "        document.querySelector('#df-1d720b8f-a52d-4c85-983f-725ec3247e04 button.colab-df-convert');\n",
              "      buttonEl.style.display =\n",
              "        google.colab.kernel.accessAllowed ? 'block' : 'none';\n",
              "\n",
              "      async function convertToInteractive(key) {\n",
              "        const element = document.querySelector('#df-1d720b8f-a52d-4c85-983f-725ec3247e04');\n",
              "        const dataTable =\n",
              "          await google.colab.kernel.invokeFunction('convertToInteractive',\n",
              "                                                    [key], {});\n",
              "        if (!dataTable) return;\n",
              "\n",
              "        const docLinkHtml = 'Like what you see? Visit the ' +\n",
              "          '<a target=\"_blank\" href=https://colab.research.google.com/notebooks/data_table.ipynb>data table notebook</a>'\n",
              "          + ' to learn more about interactive tables.';\n",
              "        element.innerHTML = '';\n",
              "        dataTable['output_type'] = 'display_data';\n",
              "        await google.colab.output.renderOutput(dataTable, element);\n",
              "        const docLink = document.createElement('div');\n",
              "        docLink.innerHTML = docLinkHtml;\n",
              "        element.appendChild(docLink);\n",
              "      }\n",
              "    </script>\n",
              "  </div>\n",
              "\n",
              "\n",
              "    <div id=\"df-e45545c9-6e85-4df4-bbc5-151b62ab9eb7\">\n",
              "      <button class=\"colab-df-quickchart\" onclick=\"quickchart('df-e45545c9-6e85-4df4-bbc5-151b62ab9eb7')\"\n",
              "                title=\"Suggest charts\"\n",
              "                style=\"display:none;\">\n",
              "\n",
              "<svg xmlns=\"http://www.w3.org/2000/svg\" height=\"24px\"viewBox=\"0 0 24 24\"\n",
              "     width=\"24px\">\n",
              "    <g>\n",
              "        <path d=\"M19 3H5c-1.1 0-2 .9-2 2v14c0 1.1.9 2 2 2h14c1.1 0 2-.9 2-2V5c0-1.1-.9-2-2-2zM9 17H7v-7h2v7zm4 0h-2V7h2v10zm4 0h-2v-4h2v4z\"/>\n",
              "    </g>\n",
              "</svg>\n",
              "      </button>\n",
              "\n",
              "<style>\n",
              "  .colab-df-quickchart {\n",
              "      --bg-color: #E8F0FE;\n",
              "      --fill-color: #1967D2;\n",
              "      --hover-bg-color: #E2EBFA;\n",
              "      --hover-fill-color: #174EA6;\n",
              "      --disabled-fill-color: #AAA;\n",
              "      --disabled-bg-color: #DDD;\n",
              "  }\n",
              "\n",
              "  [theme=dark] .colab-df-quickchart {\n",
              "      --bg-color: #3B4455;\n",
              "      --fill-color: #D2E3FC;\n",
              "      --hover-bg-color: #434B5C;\n",
              "      --hover-fill-color: #FFFFFF;\n",
              "      --disabled-bg-color: #3B4455;\n",
              "      --disabled-fill-color: #666;\n",
              "  }\n",
              "\n",
              "  .colab-df-quickchart {\n",
              "    background-color: var(--bg-color);\n",
              "    border: none;\n",
              "    border-radius: 50%;\n",
              "    cursor: pointer;\n",
              "    display: none;\n",
              "    fill: var(--fill-color);\n",
              "    height: 32px;\n",
              "    padding: 0;\n",
              "    width: 32px;\n",
              "  }\n",
              "\n",
              "  .colab-df-quickchart:hover {\n",
              "    background-color: var(--hover-bg-color);\n",
              "    box-shadow: 0 1px 2px rgba(60, 64, 67, 0.3), 0 1px 3px 1px rgba(60, 64, 67, 0.15);\n",
              "    fill: var(--button-hover-fill-color);\n",
              "  }\n",
              "\n",
              "  .colab-df-quickchart-complete:disabled,\n",
              "  .colab-df-quickchart-complete:disabled:hover {\n",
              "    background-color: var(--disabled-bg-color);\n",
              "    fill: var(--disabled-fill-color);\n",
              "    box-shadow: none;\n",
              "  }\n",
              "\n",
              "  .colab-df-spinner {\n",
              "    border: 2px solid var(--fill-color);\n",
              "    border-color: transparent;\n",
              "    border-bottom-color: var(--fill-color);\n",
              "    animation:\n",
              "      spin 1s steps(1) infinite;\n",
              "  }\n",
              "\n",
              "  @keyframes spin {\n",
              "    0% {\n",
              "      border-color: transparent;\n",
              "      border-bottom-color: var(--fill-color);\n",
              "      border-left-color: var(--fill-color);\n",
              "    }\n",
              "    20% {\n",
              "      border-color: transparent;\n",
              "      border-left-color: var(--fill-color);\n",
              "      border-top-color: var(--fill-color);\n",
              "    }\n",
              "    30% {\n",
              "      border-color: transparent;\n",
              "      border-left-color: var(--fill-color);\n",
              "      border-top-color: var(--fill-color);\n",
              "      border-right-color: var(--fill-color);\n",
              "    }\n",
              "    40% {\n",
              "      border-color: transparent;\n",
              "      border-right-color: var(--fill-color);\n",
              "      border-top-color: var(--fill-color);\n",
              "    }\n",
              "    60% {\n",
              "      border-color: transparent;\n",
              "      border-right-color: var(--fill-color);\n",
              "    }\n",
              "    80% {\n",
              "      border-color: transparent;\n",
              "      border-right-color: var(--fill-color);\n",
              "      border-bottom-color: var(--fill-color);\n",
              "    }\n",
              "    90% {\n",
              "      border-color: transparent;\n",
              "      border-bottom-color: var(--fill-color);\n",
              "    }\n",
              "  }\n",
              "</style>\n",
              "\n",
              "      <script>\n",
              "        async function quickchart(key) {\n",
              "          const quickchartButtonEl =\n",
              "            document.querySelector('#' + key + ' button');\n",
              "          quickchartButtonEl.disabled = true;  // To prevent multiple clicks.\n",
              "          quickchartButtonEl.classList.add('colab-df-spinner');\n",
              "          try {\n",
              "            const charts = await google.colab.kernel.invokeFunction(\n",
              "                'suggestCharts', [key], {});\n",
              "          } catch (error) {\n",
              "            console.error('Error during call to suggestCharts:', error);\n",
              "          }\n",
              "          quickchartButtonEl.classList.remove('colab-df-spinner');\n",
              "          quickchartButtonEl.classList.add('colab-df-quickchart-complete');\n",
              "        }\n",
              "        (() => {\n",
              "          let quickchartButtonEl =\n",
              "            document.querySelector('#df-e45545c9-6e85-4df4-bbc5-151b62ab9eb7 button');\n",
              "          quickchartButtonEl.style.display =\n",
              "            google.colab.kernel.accessAllowed ? 'block' : 'none';\n",
              "        })();\n",
              "      </script>\n",
              "    </div>\n",
              "\n",
              "    </div>\n",
              "  </div>\n"
            ],
            "application/vnd.google.colaboratory.intrinsic+json": {
              "type": "dataframe",
              "variable_name": "dssc",
              "summary": "{\n  \"name\": \"dssc\",\n  \"rows\": 607,\n  \"fields\": [\n    {\n      \"column\": \"Working_Year\",\n      \"properties\": {\n        \"dtype\": \"number\",\n        \"std\": 0,\n        \"min\": 2020,\n        \"max\": 2022,\n        \"num_unique_values\": 3,\n        \"samples\": [\n          2020,\n          2021,\n          2022\n        ],\n        \"semantic_type\": \"\",\n        \"description\": \"\"\n      }\n    },\n    {\n      \"column\": \"Designation\",\n      \"properties\": {\n        \"dtype\": \"category\",\n        \"num_unique_values\": 50,\n        \"samples\": [\n          \"Director of Data Science\",\n          \"Data Architect\",\n          \"Computer Vision Software Engineer\"\n        ],\n        \"semantic_type\": \"\",\n        \"description\": \"\"\n      }\n    },\n    {\n      \"column\": \"Experience\",\n      \"properties\": {\n        \"dtype\": \"category\",\n        \"num_unique_values\": 4,\n        \"samples\": [\n          \"Senior\",\n          \"Executive\",\n          \"Mid\"\n        ],\n        \"semantic_type\": \"\",\n        \"description\": \"\"\n      }\n    },\n    {\n      \"column\": \"Employment_Status\",\n      \"properties\": {\n        \"dtype\": \"category\",\n        \"num_unique_values\": 4,\n        \"samples\": [\n          \"CT\",\n          \"FL\",\n          \"FT\"\n        ],\n        \"semantic_type\": \"\",\n        \"description\": \"\"\n      }\n    },\n    {\n      \"column\": \"Employee_Location\",\n      \"properties\": {\n        \"dtype\": \"category\",\n        \"num_unique_values\": 57,\n        \"samples\": [\n          \"DE\",\n          \"HU\",\n          \"VN\"\n        ],\n        \"semantic_type\": \"\",\n        \"description\": \"\"\n      }\n    },\n    {\n      \"column\": \"Company_Size\",\n      \"properties\": {\n        \"dtype\": \"category\",\n        \"num_unique_values\": 3,\n        \"samples\": [\n          \"L\",\n          \"S\",\n          \"M\"\n        ],\n        \"semantic_type\": \"\",\n        \"description\": \"\"\n      }\n    },\n    {\n      \"column\": \"Remote_Working_Ratio\",\n      \"properties\": {\n        \"dtype\": \"number\",\n        \"std\": 40,\n        \"min\": 0,\n        \"max\": 100,\n        \"num_unique_values\": 3,\n        \"samples\": [\n          0,\n          50,\n          100\n        ],\n        \"semantic_type\": \"\",\n        \"description\": \"\"\n      }\n    },\n    {\n      \"column\": \"Salary_Rupee\",\n      \"properties\": {\n        \"dtype\": \"string\",\n        \"num_unique_values\": 377,\n        \"samples\": [\n          \"110698\",\n          \"130947\",\n          \"58531\"\n        ],\n        \"semantic_type\": \"\",\n        \"description\": \"\"\n      }\n    },\n    {\n      \"column\": \"Unnamed: 8\",\n      \"properties\": {\n        \"dtype\": \"number\",\n        \"std\": null,\n        \"min\": null,\n        \"max\": null,\n        \"num_unique_values\": 0,\n        \"samples\": [],\n        \"semantic_type\": \"\",\n        \"description\": \"\"\n      }\n    },\n    {\n      \"column\": \"Unnamed: 9\",\n      \"properties\": {\n        \"dtype\": \"number\",\n        \"std\": null,\n        \"min\": null,\n        \"max\": null,\n        \"num_unique_values\": 0,\n        \"samples\": [],\n        \"semantic_type\": \"\",\n        \"description\": \"\"\n      }\n    },\n    {\n      \"column\": \"Unnamed: 10\",\n      \"properties\": {\n        \"dtype\": \"category\",\n        \"num_unique_values\": 2,\n        \"samples\": [],\n        \"semantic_type\": \"\",\n        \"description\": \"\"\n      }\n    }\n  ]\n}"
            }
          },
          "metadata": {},
          "execution_count": 56
        }
      ]
    },
    {
      "cell_type": "markdown",
      "source": [
        "d. Check the information"
      ],
      "metadata": {
        "id": "mHc30U4ZIpKh"
      }
    },
    {
      "cell_type": "code",
      "source": [
        "print(\"Information\")\n",
        "dssc.info()"
      ],
      "metadata": {
        "colab": {
          "base_uri": "https://localhost:8080/"
        },
        "id": "z2DBpwCIIqXE",
        "outputId": "e6e89cde-fad0-4462-bd8d-b4dda08bff97"
      },
      "execution_count": 57,
      "outputs": [
        {
          "output_type": "stream",
          "name": "stdout",
          "text": [
            "Information\n",
            "<class 'pandas.core.frame.DataFrame'>\n",
            "RangeIndex: 607 entries, 0 to 606\n",
            "Data columns (total 11 columns):\n",
            " #   Column                Non-Null Count  Dtype  \n",
            "---  ------                --------------  -----  \n",
            " 0   Working_Year          607 non-null    int64  \n",
            " 1   Designation           607 non-null    object \n",
            " 2   Experience            607 non-null    object \n",
            " 3   Employment_Status     607 non-null    object \n",
            " 4   Employee_Location     607 non-null    object \n",
            " 5   Company_Size          607 non-null    object \n",
            " 6   Remote_Working_Ratio  607 non-null    int64  \n",
            " 7   Salary_Rupee          600 non-null    object \n",
            " 8   Unnamed: 8            0 non-null      float64\n",
            " 9   Unnamed: 9            0 non-null      float64\n",
            " 10  Unnamed: 10           2 non-null      object \n",
            "dtypes: float64(2), int64(2), object(7)\n",
            "memory usage: 52.3+ KB\n"
          ]
        }
      ]
    },
    {
      "cell_type": "markdown",
      "source": [
        "e. Count the value of the categorical data"
      ],
      "metadata": {
        "id": "gPlhtLSWItEA"
      }
    },
    {
      "cell_type": "code",
      "source": [
        "print(\"Value counts\")\n",
        "print(dssc['Designation'].value_counts())\n",
        "print(dssc['Experience'].value_counts())\n",
        "print(dssc['Employment_Status'].value_counts())\n",
        "print(dssc['Employee_Location'].value_counts())\n",
        "print(dssc['Company_Size'].value_counts())\n",
        "print(dssc['Remote_Working_Ratio'].value_counts())\n",
        "print(dssc['Salary_Rupee'].value_counts())"
      ],
      "metadata": {
        "colab": {
          "base_uri": "https://localhost:8080/"
        },
        "id": "4cLZVjShIwk5",
        "outputId": "85c1267d-cc15-48a4-eeb0-90f168270255"
      },
      "execution_count": 58,
      "outputs": [
        {
          "output_type": "stream",
          "name": "stdout",
          "text": [
            "Value counts\n",
            "Designation\n",
            "Data Scientist                              143\n",
            "Data Engineer                               132\n",
            "Data Analyst                                 97\n",
            "Machine Learning Engineer                    41\n",
            "Research Scientist                           16\n",
            "Data Science Manager                         12\n",
            "Data Architect                               11\n",
            "Machine Learning Scientist                    8\n",
            "Big Data Engineer                             8\n",
            "Director of Data Science                      7\n",
            "AI Scientist                                  7\n",
            "Principal Data Scientist                      7\n",
            "Data Science Consultant                       7\n",
            "Data Analytics Manager                        7\n",
            "BI Data Analyst                               6\n",
            "Computer Vision Engineer                      6\n",
            "ML Engineer                                   6\n",
            "Lead Data Engineer                            6\n",
            "Applied Data Scientist                        5\n",
            "Business Data Analyst                         5\n",
            "Data Engineering Manager                      5\n",
            "Head of Data                                  5\n",
            "Data Analytics Engineer                       4\n",
            "Head of Data Science                          4\n",
            "Applied Machine Learning Scientist            4\n",
            "Analytics Engineer                            4\n",
            "Machine Learning Developer                    3\n",
            "Data Science Engineer                         3\n",
            "Lead Data Analyst                             3\n",
            "Machine Learning Infrastructure Engineer      3\n",
            "Lead Data Scientist                           3\n",
            "Principal Data Engineer                       3\n",
            "Computer Vision Software Engineer             3\n",
            "Product Data Analyst                          2\n",
            "ETL Developer                                 2\n",
            "Cloud Data Engineer                           2\n",
            "Financial Data Analyst                        2\n",
            "Director of Data Engineering                  2\n",
            "Principal Data Analyst                        2\n",
            "Machine Learning Manager                      1\n",
            "Marketing Data Analyst                        1\n",
            "3D Computer Vision Researcher                 1\n",
            "Finance Data Analyst                          1\n",
            "Data Specialist                               1\n",
            "Staff Data Scientist                          1\n",
            "Big Data Architect                            1\n",
            "Head of Machine Learning                      1\n",
            "NLP Engineer                                  1\n",
            "Lead Machine Learning Engineer                1\n",
            "Data Analytics Lead                           1\n",
            "Name: count, dtype: int64\n",
            "Experience\n",
            "Senior       280\n",
            "Mid          213\n",
            "Entry         88\n",
            "Executive     26\n",
            "Name: count, dtype: int64\n",
            "Employment_Status\n",
            "FT    588\n",
            "PT     10\n",
            "CT      5\n",
            "FL      4\n",
            "Name: count, dtype: int64\n",
            "Employee_Location\n",
            "US    332\n",
            "GB     44\n",
            "IN     30\n",
            "CA     29\n",
            "DE     25\n",
            "FR     18\n",
            "ES     15\n",
            "GR     13\n",
            "JP      7\n",
            "PT      6\n",
            "PK      6\n",
            "BR      6\n",
            "NL      5\n",
            "IT      4\n",
            "RU      4\n",
            "PL      4\n",
            "AE      3\n",
            "TR      3\n",
            "AU      3\n",
            "VN      3\n",
            "AT      3\n",
            "DK      2\n",
            "NG      2\n",
            "HU      2\n",
            "MX      2\n",
            "SI      2\n",
            "RO      2\n",
            "BE      2\n",
            "SG      2\n",
            "PH      1\n",
            "CN      1\n",
            "HN      1\n",
            "NZ      1\n",
            "UA      1\n",
            "IQ      1\n",
            "CL      1\n",
            "MT      1\n",
            "IR      1\n",
            "CO      1\n",
            "HR      1\n",
            "BG      1\n",
            "KE      1\n",
            "MD      1\n",
            "RS      1\n",
            "HK      1\n",
            "LU      1\n",
            "JE      1\n",
            "CZ      1\n",
            "PR      1\n",
            "AR      1\n",
            "DZ      1\n",
            "MY      1\n",
            "TN      1\n",
            "EE      1\n",
            "BO      1\n",
            "IE      1\n",
            "CH      1\n",
            "Name: count, dtype: int64\n",
            "Company_Size\n",
            "M    326\n",
            "L    198\n",
            "S     83\n",
            "Name: count, dtype: int64\n",
            "Remote_Working_Ratio\n",
            "100    381\n",
            "0      127\n",
            "50      99\n",
            "Name: count, dtype: int64\n",
            "Salary_Rupee\n",
            "95483      15\n",
            "114580     12\n",
            "143225     10\n",
            "190967      9\n",
            "133677      8\n",
            "           ..\n",
            "39806       1\n",
            "7639        1\n",
            "83,071      1\n",
            "38,113      1\n",
            "248,257     1\n",
            "Name: count, Length: 377, dtype: int64\n"
          ]
        }
      ]
    },
    {
      "cell_type": "markdown",
      "source": [
        "f. Describe the data"
      ],
      "metadata": {
        "id": "EwpY1hOwI7Jy"
      }
    },
    {
      "cell_type": "code",
      "source": [
        "print(\"Describe\")\n",
        "dssc.describe()"
      ],
      "metadata": {
        "colab": {
          "base_uri": "https://localhost:8080/",
          "height": 318
        },
        "id": "0ccR9gpKI_LB",
        "outputId": "9c48d4fd-0910-49d7-c72b-b78d945512db"
      },
      "execution_count": 59,
      "outputs": [
        {
          "output_type": "stream",
          "name": "stdout",
          "text": [
            "Describe\n"
          ]
        },
        {
          "output_type": "execute_result",
          "data": {
            "text/plain": [
              "       Working_Year  Remote_Working_Ratio  Unnamed: 8  Unnamed: 9\n",
              "count    607.000000             607.00000         0.0         0.0\n",
              "mean    2021.405272              70.92257         NaN         NaN\n",
              "std        0.692133              40.70913         NaN         NaN\n",
              "min     2020.000000               0.00000         NaN         NaN\n",
              "25%     2021.000000              50.00000         NaN         NaN\n",
              "50%     2022.000000             100.00000         NaN         NaN\n",
              "75%     2022.000000             100.00000         NaN         NaN\n",
              "max     2022.000000             100.00000         NaN         NaN"
            ],
            "text/html": [
              "\n",
              "  <div id=\"df-5f0e5d20-a365-46ee-8f92-2cf156fca17e\" class=\"colab-df-container\">\n",
              "    <div>\n",
              "<style scoped>\n",
              "    .dataframe tbody tr th:only-of-type {\n",
              "        vertical-align: middle;\n",
              "    }\n",
              "\n",
              "    .dataframe tbody tr th {\n",
              "        vertical-align: top;\n",
              "    }\n",
              "\n",
              "    .dataframe thead th {\n",
              "        text-align: right;\n",
              "    }\n",
              "</style>\n",
              "<table border=\"1\" class=\"dataframe\">\n",
              "  <thead>\n",
              "    <tr style=\"text-align: right;\">\n",
              "      <th></th>\n",
              "      <th>Working_Year</th>\n",
              "      <th>Remote_Working_Ratio</th>\n",
              "      <th>Unnamed: 8</th>\n",
              "      <th>Unnamed: 9</th>\n",
              "    </tr>\n",
              "  </thead>\n",
              "  <tbody>\n",
              "    <tr>\n",
              "      <th>count</th>\n",
              "      <td>607.000000</td>\n",
              "      <td>607.00000</td>\n",
              "      <td>0.0</td>\n",
              "      <td>0.0</td>\n",
              "    </tr>\n",
              "    <tr>\n",
              "      <th>mean</th>\n",
              "      <td>2021.405272</td>\n",
              "      <td>70.92257</td>\n",
              "      <td>NaN</td>\n",
              "      <td>NaN</td>\n",
              "    </tr>\n",
              "    <tr>\n",
              "      <th>std</th>\n",
              "      <td>0.692133</td>\n",
              "      <td>40.70913</td>\n",
              "      <td>NaN</td>\n",
              "      <td>NaN</td>\n",
              "    </tr>\n",
              "    <tr>\n",
              "      <th>min</th>\n",
              "      <td>2020.000000</td>\n",
              "      <td>0.00000</td>\n",
              "      <td>NaN</td>\n",
              "      <td>NaN</td>\n",
              "    </tr>\n",
              "    <tr>\n",
              "      <th>25%</th>\n",
              "      <td>2021.000000</td>\n",
              "      <td>50.00000</td>\n",
              "      <td>NaN</td>\n",
              "      <td>NaN</td>\n",
              "    </tr>\n",
              "    <tr>\n",
              "      <th>50%</th>\n",
              "      <td>2022.000000</td>\n",
              "      <td>100.00000</td>\n",
              "      <td>NaN</td>\n",
              "      <td>NaN</td>\n",
              "    </tr>\n",
              "    <tr>\n",
              "      <th>75%</th>\n",
              "      <td>2022.000000</td>\n",
              "      <td>100.00000</td>\n",
              "      <td>NaN</td>\n",
              "      <td>NaN</td>\n",
              "    </tr>\n",
              "    <tr>\n",
              "      <th>max</th>\n",
              "      <td>2022.000000</td>\n",
              "      <td>100.00000</td>\n",
              "      <td>NaN</td>\n",
              "      <td>NaN</td>\n",
              "    </tr>\n",
              "  </tbody>\n",
              "</table>\n",
              "</div>\n",
              "    <div class=\"colab-df-buttons\">\n",
              "\n",
              "  <div class=\"colab-df-container\">\n",
              "    <button class=\"colab-df-convert\" onclick=\"convertToInteractive('df-5f0e5d20-a365-46ee-8f92-2cf156fca17e')\"\n",
              "            title=\"Convert this dataframe to an interactive table.\"\n",
              "            style=\"display:none;\">\n",
              "\n",
              "  <svg xmlns=\"http://www.w3.org/2000/svg\" height=\"24px\" viewBox=\"0 -960 960 960\">\n",
              "    <path d=\"M120-120v-720h720v720H120Zm60-500h600v-160H180v160Zm220 220h160v-160H400v160Zm0 220h160v-160H400v160ZM180-400h160v-160H180v160Zm440 0h160v-160H620v160ZM180-180h160v-160H180v160Zm440 0h160v-160H620v160Z\"/>\n",
              "  </svg>\n",
              "    </button>\n",
              "\n",
              "  <style>\n",
              "    .colab-df-container {\n",
              "      display:flex;\n",
              "      gap: 12px;\n",
              "    }\n",
              "\n",
              "    .colab-df-convert {\n",
              "      background-color: #E8F0FE;\n",
              "      border: none;\n",
              "      border-radius: 50%;\n",
              "      cursor: pointer;\n",
              "      display: none;\n",
              "      fill: #1967D2;\n",
              "      height: 32px;\n",
              "      padding: 0 0 0 0;\n",
              "      width: 32px;\n",
              "    }\n",
              "\n",
              "    .colab-df-convert:hover {\n",
              "      background-color: #E2EBFA;\n",
              "      box-shadow: 0px 1px 2px rgba(60, 64, 67, 0.3), 0px 1px 3px 1px rgba(60, 64, 67, 0.15);\n",
              "      fill: #174EA6;\n",
              "    }\n",
              "\n",
              "    .colab-df-buttons div {\n",
              "      margin-bottom: 4px;\n",
              "    }\n",
              "\n",
              "    [theme=dark] .colab-df-convert {\n",
              "      background-color: #3B4455;\n",
              "      fill: #D2E3FC;\n",
              "    }\n",
              "\n",
              "    [theme=dark] .colab-df-convert:hover {\n",
              "      background-color: #434B5C;\n",
              "      box-shadow: 0px 1px 3px 1px rgba(0, 0, 0, 0.15);\n",
              "      filter: drop-shadow(0px 1px 2px rgba(0, 0, 0, 0.3));\n",
              "      fill: #FFFFFF;\n",
              "    }\n",
              "  </style>\n",
              "\n",
              "    <script>\n",
              "      const buttonEl =\n",
              "        document.querySelector('#df-5f0e5d20-a365-46ee-8f92-2cf156fca17e button.colab-df-convert');\n",
              "      buttonEl.style.display =\n",
              "        google.colab.kernel.accessAllowed ? 'block' : 'none';\n",
              "\n",
              "      async function convertToInteractive(key) {\n",
              "        const element = document.querySelector('#df-5f0e5d20-a365-46ee-8f92-2cf156fca17e');\n",
              "        const dataTable =\n",
              "          await google.colab.kernel.invokeFunction('convertToInteractive',\n",
              "                                                    [key], {});\n",
              "        if (!dataTable) return;\n",
              "\n",
              "        const docLinkHtml = 'Like what you see? Visit the ' +\n",
              "          '<a target=\"_blank\" href=https://colab.research.google.com/notebooks/data_table.ipynb>data table notebook</a>'\n",
              "          + ' to learn more about interactive tables.';\n",
              "        element.innerHTML = '';\n",
              "        dataTable['output_type'] = 'display_data';\n",
              "        await google.colab.output.renderOutput(dataTable, element);\n",
              "        const docLink = document.createElement('div');\n",
              "        docLink.innerHTML = docLinkHtml;\n",
              "        element.appendChild(docLink);\n",
              "      }\n",
              "    </script>\n",
              "  </div>\n",
              "\n",
              "\n",
              "    <div id=\"df-91bdb6b4-0bf4-4fc0-a9ae-e2634e867789\">\n",
              "      <button class=\"colab-df-quickchart\" onclick=\"quickchart('df-91bdb6b4-0bf4-4fc0-a9ae-e2634e867789')\"\n",
              "                title=\"Suggest charts\"\n",
              "                style=\"display:none;\">\n",
              "\n",
              "<svg xmlns=\"http://www.w3.org/2000/svg\" height=\"24px\"viewBox=\"0 0 24 24\"\n",
              "     width=\"24px\">\n",
              "    <g>\n",
              "        <path d=\"M19 3H5c-1.1 0-2 .9-2 2v14c0 1.1.9 2 2 2h14c1.1 0 2-.9 2-2V5c0-1.1-.9-2-2-2zM9 17H7v-7h2v7zm4 0h-2V7h2v10zm4 0h-2v-4h2v4z\"/>\n",
              "    </g>\n",
              "</svg>\n",
              "      </button>\n",
              "\n",
              "<style>\n",
              "  .colab-df-quickchart {\n",
              "      --bg-color: #E8F0FE;\n",
              "      --fill-color: #1967D2;\n",
              "      --hover-bg-color: #E2EBFA;\n",
              "      --hover-fill-color: #174EA6;\n",
              "      --disabled-fill-color: #AAA;\n",
              "      --disabled-bg-color: #DDD;\n",
              "  }\n",
              "\n",
              "  [theme=dark] .colab-df-quickchart {\n",
              "      --bg-color: #3B4455;\n",
              "      --fill-color: #D2E3FC;\n",
              "      --hover-bg-color: #434B5C;\n",
              "      --hover-fill-color: #FFFFFF;\n",
              "      --disabled-bg-color: #3B4455;\n",
              "      --disabled-fill-color: #666;\n",
              "  }\n",
              "\n",
              "  .colab-df-quickchart {\n",
              "    background-color: var(--bg-color);\n",
              "    border: none;\n",
              "    border-radius: 50%;\n",
              "    cursor: pointer;\n",
              "    display: none;\n",
              "    fill: var(--fill-color);\n",
              "    height: 32px;\n",
              "    padding: 0;\n",
              "    width: 32px;\n",
              "  }\n",
              "\n",
              "  .colab-df-quickchart:hover {\n",
              "    background-color: var(--hover-bg-color);\n",
              "    box-shadow: 0 1px 2px rgba(60, 64, 67, 0.3), 0 1px 3px 1px rgba(60, 64, 67, 0.15);\n",
              "    fill: var(--button-hover-fill-color);\n",
              "  }\n",
              "\n",
              "  .colab-df-quickchart-complete:disabled,\n",
              "  .colab-df-quickchart-complete:disabled:hover {\n",
              "    background-color: var(--disabled-bg-color);\n",
              "    fill: var(--disabled-fill-color);\n",
              "    box-shadow: none;\n",
              "  }\n",
              "\n",
              "  .colab-df-spinner {\n",
              "    border: 2px solid var(--fill-color);\n",
              "    border-color: transparent;\n",
              "    border-bottom-color: var(--fill-color);\n",
              "    animation:\n",
              "      spin 1s steps(1) infinite;\n",
              "  }\n",
              "\n",
              "  @keyframes spin {\n",
              "    0% {\n",
              "      border-color: transparent;\n",
              "      border-bottom-color: var(--fill-color);\n",
              "      border-left-color: var(--fill-color);\n",
              "    }\n",
              "    20% {\n",
              "      border-color: transparent;\n",
              "      border-left-color: var(--fill-color);\n",
              "      border-top-color: var(--fill-color);\n",
              "    }\n",
              "    30% {\n",
              "      border-color: transparent;\n",
              "      border-left-color: var(--fill-color);\n",
              "      border-top-color: var(--fill-color);\n",
              "      border-right-color: var(--fill-color);\n",
              "    }\n",
              "    40% {\n",
              "      border-color: transparent;\n",
              "      border-right-color: var(--fill-color);\n",
              "      border-top-color: var(--fill-color);\n",
              "    }\n",
              "    60% {\n",
              "      border-color: transparent;\n",
              "      border-right-color: var(--fill-color);\n",
              "    }\n",
              "    80% {\n",
              "      border-color: transparent;\n",
              "      border-right-color: var(--fill-color);\n",
              "      border-bottom-color: var(--fill-color);\n",
              "    }\n",
              "    90% {\n",
              "      border-color: transparent;\n",
              "      border-bottom-color: var(--fill-color);\n",
              "    }\n",
              "  }\n",
              "</style>\n",
              "\n",
              "      <script>\n",
              "        async function quickchart(key) {\n",
              "          const quickchartButtonEl =\n",
              "            document.querySelector('#' + key + ' button');\n",
              "          quickchartButtonEl.disabled = true;  // To prevent multiple clicks.\n",
              "          quickchartButtonEl.classList.add('colab-df-spinner');\n",
              "          try {\n",
              "            const charts = await google.colab.kernel.invokeFunction(\n",
              "                'suggestCharts', [key], {});\n",
              "          } catch (error) {\n",
              "            console.error('Error during call to suggestCharts:', error);\n",
              "          }\n",
              "          quickchartButtonEl.classList.remove('colab-df-spinner');\n",
              "          quickchartButtonEl.classList.add('colab-df-quickchart-complete');\n",
              "        }\n",
              "        (() => {\n",
              "          let quickchartButtonEl =\n",
              "            document.querySelector('#df-91bdb6b4-0bf4-4fc0-a9ae-e2634e867789 button');\n",
              "          quickchartButtonEl.style.display =\n",
              "            google.colab.kernel.accessAllowed ? 'block' : 'none';\n",
              "        })();\n",
              "      </script>\n",
              "    </div>\n",
              "\n",
              "    </div>\n",
              "  </div>\n"
            ],
            "application/vnd.google.colaboratory.intrinsic+json": {
              "type": "dataframe",
              "summary": "{\n  \"name\": \"dssc\",\n  \"rows\": 8,\n  \"fields\": [\n    {\n      \"column\": \"Working_Year\",\n      \"properties\": {\n        \"dtype\": \"number\",\n        \"std\": 811.4184770168735,\n        \"min\": 0.6921329854526519,\n        \"max\": 2022.0,\n        \"num_unique_values\": 6,\n        \"samples\": [\n          607.0,\n          2021.4052718286655,\n          2022.0\n        ],\n        \"semantic_type\": \"\",\n        \"description\": \"\"\n      }\n    },\n    {\n      \"column\": \"Remote_Working_Ratio\",\n      \"properties\": {\n        \"dtype\": \"number\",\n        \"std\": 194.5285621373652,\n        \"min\": 0.0,\n        \"max\": 607.0,\n        \"num_unique_values\": 6,\n        \"samples\": [\n          607.0,\n          70.92257001647447,\n          100.0\n        ],\n        \"semantic_type\": \"\",\n        \"description\": \"\"\n      }\n    },\n    {\n      \"column\": \"Unnamed: 8\",\n      \"properties\": {\n        \"dtype\": \"number\",\n        \"std\": null,\n        \"min\": 0.0,\n        \"max\": 0.0,\n        \"num_unique_values\": 1,\n        \"samples\": [\n          0.0\n        ],\n        \"semantic_type\": \"\",\n        \"description\": \"\"\n      }\n    },\n    {\n      \"column\": \"Unnamed: 9\",\n      \"properties\": {\n        \"dtype\": \"number\",\n        \"std\": null,\n        \"min\": 0.0,\n        \"max\": 0.0,\n        \"num_unique_values\": 1,\n        \"samples\": [\n          0.0\n        ],\n        \"semantic_type\": \"\",\n        \"description\": \"\"\n      }\n    }\n  ]\n}"
            }
          },
          "metadata": {},
          "execution_count": 59
        }
      ]
    },
    {
      "cell_type": "markdown",
      "source": [
        "2. Convert the string to number for Salary_Rupee, convert the datatype to float and convert it to USD."
      ],
      "metadata": {
        "id": "PGv8yGF2JE-J"
      }
    },
    {
      "cell_type": "code",
      "source": [
        "dssc[\"Salary_Rupee\"] = dssc[\"Salary_Rupee\"].astype(str).str.replace(\",\", \"\").astype(float)\n",
        "conversion_rate = 0.012\n",
        "dssc[\"Salary_USD\"] = dssc[\"Salary_Rupee\"] * conversion_rate\n",
        "print(dssc[['Salary_Rupee', 'Salary_USD']].head())"
      ],
      "metadata": {
        "colab": {
          "base_uri": "https://localhost:8080/"
        },
        "id": "5XyJUmb5JIyp",
        "outputId": "35a911bf-e63f-4331-c670-99c3cca4bf17"
      },
      "execution_count": 64,
      "outputs": [
        {
          "output_type": "stream",
          "name": "stdout",
          "text": [
            "   Salary_Rupee  Salary_USD\n",
            "0       76227.0     914.724\n",
            "1      248257.0    2979.084\n",
            "2      104100.0    1249.200\n",
            "3           NaN         NaN\n",
            "4      143225.0    1718.700\n"
          ]
        }
      ]
    },
    {
      "cell_type": "markdown",
      "source": [
        "3. Visualize the data Salary_Rupee and Salary_USD by Experience using boxplot.\n"
      ],
      "metadata": {
        "id": "J-ULTyw2Kn2p"
      }
    },
    {
      "cell_type": "code",
      "source": [
        "print(\"Visualization of Salary_Rupee and Salary_USD by Experience using boxplot.\")\n",
        "\n",
        "plt.figure(figsize=(12,6))\n",
        "sns.boxplot(x=\"Experience\", y=\"Salary_USD\", data=dssc, color=\"Violet\")\n",
        "plt.title(\"Salary by Experience and Employment Status\")\n",
        "plt.show()"
      ],
      "metadata": {
        "colab": {
          "base_uri": "https://localhost:8080/",
          "height": 465
        },
        "id": "Kb8qKtleM4Jo",
        "outputId": "8053a43d-7056-4f1f-bf21-859a73dd0ec0"
      },
      "execution_count": 65,
      "outputs": [
        {
          "output_type": "stream",
          "name": "stdout",
          "text": [
            "Visualization of Salary_Rupee and Salary_USD by Experience using boxplot.\n"
          ]
        },
        {
          "output_type": "display_data",
          "data": {
            "text/plain": [
              "<Figure size 1200x600 with 1 Axes>"
            ],
            "image/png": "[encoded data removed]"
          },
          "metadata": {}
        }
      ]
    },
    {
      "cell_type": "markdown",
      "source": [
        "Answer : This boxplot reveals that as professional experience increases from Entry to Executive level, the median salary and its variability in USD both consistently rise, with several high-earning outliers present in the non-executive roles."
      ],
      "metadata": {
        "id": "rd0Gala4VZ4o"
      }
    },
    {
      "cell_type": "code",
      "source": [
        "plt.figure(figsize=(12,6))\n",
        "sns.boxplot(x=\"Experience\", y=\"Salary_Rupee\", data=dssc, color=\"Violet\")\n",
        "plt.title(\"Salary by Experience and Employment Status\")\n",
        "plt.show()"
      ],
      "metadata": {
        "colab": {
          "base_uri": "https://localhost:8080/",
          "height": 441
        },
        "id": "dW7_OWYUQ9Rn",
        "outputId": "ee26a2d7-37a8-458d-a0b4-2d51c4465f12"
      },
      "execution_count": 66,
      "outputs": [
        {
          "output_type": "display_data",
          "data": {
            "text/plain": [
              "<Figure size 1200x600 with 1 Axes>"
            ],
            "image/png": "[encoded data removed]"
          },
          "metadata": {}
        }
      ]
    },
    {
      "cell_type": "markdown",
      "source": [
        "Answer: Visually identical to the initial chart and despite a minor title error, this plot confirms that the data cleaning process did not alter the strong positive correlation between experience level and salary in USD."
      ],
      "metadata": {
        "id": "KKTpntf0Vf04"
      }
    },
    {
      "cell_type": "markdown",
      "source": [
        "4. Handle the missing data."
      ],
      "metadata": {
        "id": "WLhGP4fvKsRY"
      }
    },
    {
      "cell_type": "code",
      "source": [
        "print(\"Missing data\")\n",
        "print(dssc.isnull().sum())"
      ],
      "metadata": {
        "colab": {
          "base_uri": "https://localhost:8080/"
        },
        "id": "_jVTJmynNK0x",
        "outputId": "b3563907-0c3c-4f07-cbc6-09450ecce2c4"
      },
      "execution_count": 67,
      "outputs": [
        {
          "output_type": "stream",
          "name": "stdout",
          "text": [
            "Missing data\n",
            "Working_Year              0\n",
            "Designation               0\n",
            "Experience                0\n",
            "Employment_Status         0\n",
            "Employee_Location         0\n",
            "Company_Size              0\n",
            "Remote_Working_Ratio      0\n",
            "Salary_Rupee              7\n",
            "Unnamed: 8              607\n",
            "Unnamed: 9              607\n",
            "Unnamed: 10             605\n",
            "Salary_USD                7\n",
            "dtype: int64\n"
          ]
        }
      ]
    },
    {
      "cell_type": "markdown",
      "source": [
        "5. Handle the outliers"
      ],
      "metadata": {
        "id": "3isjWCElKvWn"
      }
    },
    {
      "cell_type": "markdown",
      "source": [
        "a. Compute the 75th – 25th quartile"
      ],
      "metadata": {
        "id": "j2jJTsFBK1fg"
      }
    },
    {
      "cell_type": "code",
      "source": [
        "Q1 = dssc[\"Salary_USD\"].quantile(0.25)\n",
        "Q3 = dssc[\"Salary_USD\"].quantile(0.75)"
      ],
      "metadata": {
        "id": "Xzep8_hTSOEX"
      },
      "execution_count": 68,
      "outputs": []
    },
    {
      "cell_type": "markdown",
      "source": [
        "b. Compute the IQR"
      ],
      "metadata": {
        "id": "N_lKDgrhK4-R"
      }
    },
    {
      "cell_type": "code",
      "source": [
        "IQR = Q3 - Q1"
      ],
      "metadata": {
        "id": "xjPzt2kwSW8o"
      },
      "execution_count": 69,
      "outputs": []
    },
    {
      "cell_type": "markdown",
      "source": [
        "c. Get the lower and upper threshold."
      ],
      "metadata": {
        "id": "SY1fFYuKK6bQ"
      }
    },
    {
      "cell_type": "code",
      "source": [
        "lower_threshold = Q1 - 1.5 * IQR\n",
        "upper_threshold = Q3 + 1.5 * IQR"
      ],
      "metadata": {
        "id": "Q9vZQeLLOJnj"
      },
      "execution_count": 70,
      "outputs": []
    },
    {
      "cell_type": "code",
      "source": [
        "print(\"Q1:\", Q1)\n",
        "print(\"Q3:\", Q3)\n",
        "print(\"IQR:\", IQR)\n",
        "print(\"Lower Threshold:\", lower_threshold)\n",
        "print(\"Upper Threshold:\", upper_threshold)"
      ],
      "metadata": {
        "colab": {
          "base_uri": "https://localhost:8080/"
        },
        "id": "kNQ2gvysT37H",
        "outputId": "74990310-67d1-4c46-d78c-6fec5895fba3"
      },
      "execution_count": 71,
      "outputs": [
        {
          "output_type": "stream",
          "name": "stdout",
          "text": [
            "Q1: 731.316\n",
            "Q3: 1718.7\n",
            "IQR: 987.384\n",
            "Lower Threshold: -749.76\n",
            "Upper Threshold: 3199.776\n"
          ]
        }
      ]
    },
    {
      "cell_type": "markdown",
      "source": [
        "d. Drop the outliers"
      ],
      "metadata": {
        "id": "3RceQqbOLEWA"
      }
    },
    {
      "cell_type": "code",
      "source": [
        "df_clean = dssc[(dssc[\"Salary_USD\"] >= lower_threshold) & (dssc[\"Salary_USD\"] <= upper_threshold)]"
      ],
      "metadata": {
        "id": "MukCovEGT2NJ"
      },
      "execution_count": 52,
      "outputs": []
    },
    {
      "cell_type": "markdown",
      "source": [
        "e. Visualize using boxplot and describe the cleaned data."
      ],
      "metadata": {
        "id": "BR0mknVoLH05"
      }
    },
    {
      "cell_type": "code",
      "source": [
        "plt.figure(figsize=(12,6))\n",
        "sns.boxplot(x=\"Experience\", y=\"Salary_USD\", data=df_clean, color=\"Violet\")\n",
        "plt.title(\"Salary in Rupees by Experience (After Cleaning)\")\n",
        "plt.show()"
      ],
      "metadata": {
        "colab": {
          "base_uri": "https://localhost:8080/",
          "height": 448
        },
        "id": "m2uzLFTFLMPR",
        "outputId": "645095ad-9522-41e1-b845-a5477a743870"
      },
      "execution_count": 72,
      "outputs": [
        {
          "output_type": "display_data",
          "data": {
            "text/plain": [
              "<Figure size 1200x600 with 1 Axes>"
            ],
            "image/png": "[encoded data removed]"
          },
          "metadata": {}
        }
      ]
    },
    {
      "cell_type": "markdown",
      "source": [
        "Answer: This graph represents the salary data in Indian Rupees, reaffirming that both median compensation and salary range expand significantly with each progressive level of professional experience."
      ],
      "metadata": {
        "id": "X7gxMGatVmco"
      }
    },
    {
      "cell_type": "code",
      "source": [
        "print(df_clean.describe())"
      ],
      "metadata": {
        "colab": {
          "base_uri": "https://localhost:8080/"
        },
        "id": "Iu4Hr498UdUz",
        "outputId": "10ce27f9-05f0-442e-f753-6707ad25faf5"
      },
      "execution_count": 73,
      "outputs": [
        {
          "output_type": "stream",
          "name": "stdout",
          "text": [
            "       Working_Year  Remote_Working_Ratio   Salary_Rupee  Unnamed: 8  \\\n",
            "count    590.000000            590.000000     590.000000         0.0   \n",
            "mean    2021.422034             70.677966  102773.666102         NaN   \n",
            "std        0.684430             40.742865   55901.732659         NaN   \n",
            "min     2020.000000              0.000000    2730.000000         NaN   \n",
            "25%     2021.000000             50.000000   60128.000000         NaN   \n",
            "50%     2022.000000            100.000000   95483.000000         NaN   \n",
            "75%     2022.000000            100.000000  142810.000000         NaN   \n",
            "max     2022.000000            100.000000  263534.000000         NaN   \n",
            "\n",
            "       Unnamed: 9   Salary_USD  \n",
            "count         0.0   590.000000  \n",
            "mean          NaN  1233.283993  \n",
            "std           NaN   670.820792  \n",
            "min           NaN    32.760000  \n",
            "25%           NaN   721.536000  \n",
            "50%           NaN  1145.796000  \n",
            "75%           NaN  1713.720000  \n",
            "max           NaN  3162.408000  \n"
          ]
        }
      ]
    }
  ]
}