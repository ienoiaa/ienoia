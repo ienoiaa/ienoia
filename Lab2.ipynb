{
  "nbformat": 4,
  "nbformat_minor": 0,
  "metadata": {
    "colab": {
      "provenance": [],
      "authorship_tag": "ABX9TyMYlHJvgX+bXyNLuJkgv4B4",
      "include_colab_link": true
    },
    "kernelspec": {
      "name": "python3",
      "display_name": "Python 3"
    },
    "language_info": {
      "name": "python"
    }
  },
  "cells": [
    {
      "cell_type": "markdown",
      "metadata": {
        "id": "view-in-github",
        "colab_type": "text"
      },
      "source": [
        "<a href=\"https://colab.research.google.com/github/ienoiaa/ienoia/blob/master/Lab2.ipynb\" target=\"_parent\"><img src=\"https://colab.research.google.com/assets/colab-badge.svg\" alt=\"Open In Colab\"/></a>"
      ]
    },
    {
      "cell_type": "code",
      "execution_count": 3,
      "metadata": {
        "colab": {
          "base_uri": "https://localhost:8080/"
        },
        "id": "NbUmtVSUtztM",
        "outputId": "7121391f-77a0-4e33-8dca-7ac9183b2650"
      },
      "outputs": [
        {
          "output_type": "stream",
          "name": "stdout",
          "text": [
            "Order_ID    0\n",
            "Product     0\n",
            "Quantity    1\n",
            "Price       1\n",
            "dtype: int64\n",
            "   Order_ID   Product  Quantity    Price\n",
            "0       201    Laptop       2.0  1500.00\n",
            "1       202     Mouse       1.5    25.00\n",
            "2       203  Keyboard       1.0   806.25\n",
            "3       204   Monitor       1.0   300.00\n",
            "4       205    Laptop       3.0  1400.00\n"
          ]
        },
        {
          "output_type": "stream",
          "name": "stderr",
          "text": [
            "<ipython-input-3-76c7f7a6df08>:4: FutureWarning: A value is trying to be set on a copy of a DataFrame or Series through chained assignment using an inplace method.\n",
            "The behavior will change in pandas 3.0. This inplace method will never work because the intermediate object on which we are setting values always behaves as a copy.\n",
            "\n",
            "For example, when doing 'df[col].method(value, inplace=True)', try using 'df.method({col: value}, inplace=True)' or df[col] = df[col].method(value) instead, to perform the operation inplace on the original object.\n",
            "\n",
            "\n",
            "  df['Quantity'].fillna(df['Quantity'].median(), inplace=True)\n",
            "<ipython-input-3-76c7f7a6df08>:5: FutureWarning: A value is trying to be set on a copy of a DataFrame or Series through chained assignment using an inplace method.\n",
            "The behavior will change in pandas 3.0. This inplace method will never work because the intermediate object on which we are setting values always behaves as a copy.\n",
            "\n",
            "For example, when doing 'df[col].method(value, inplace=True)', try using 'df.method({col: value}, inplace=True)' or df[col] = df[col].method(value) instead, to perform the operation inplace on the original object.\n",
            "\n",
            "\n",
            "  df['Price'].fillna(df['Price'].mean(), inplace=True)\n"
          ]
        }
      ],
      "source": [
        "import pandas as pd\n",
        "df = pd.read_csv(\"sales.csv\")\n",
        "print(df.isnull().sum())\n",
        "df['Quantity'].fillna(df['Quantity'].median(), inplace=True)\n",
        "df['Price'].fillna(df['Price'].mean(), inplace=True)\n",
        "df.dropna(inplace=True)\n",
        "print(df)"
      ]
    }
  ]
}