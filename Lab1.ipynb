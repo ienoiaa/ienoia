{
  "nbformat": 4,
  "nbformat_minor": 0,
  "metadata": {
    "colab": {
      "provenance": [],
      "authorship_tag": "ABX9TyOw/cKmqL1hkRGo/HhBpEZ2",
      "include_colab_link": true
    },
    "kernelspec": {
      "name": "python3",
      "display_name": "Python 3"
    },
    "language_info": {
      "name": "python"
    }
  },
  "cells": [
    {
      "cell_type": "markdown",
      "metadata": {
        "id": "view-in-github",
        "colab_type": "text"
      },
      "source": [
        "<a href=\"https://colab.research.google.com/github/ienoiaa/ienoia/blob/master/Lab1.ipynb\" target=\"_parent\"><img src=\"https://colab.research.google.com/assets/colab-badge.svg\" alt=\"Open In Colab\"/></a>"
      ]
    },
    {
      "cell_type": "code",
      "execution_count": 1,
      "metadata": {
        "id": "gEL0559NrozS",
        "colab": {
          "base_uri": "https://localhost:8080/"
        },
        "outputId": "c1c006fb-e707-4ee6-a36a-5e671c6b27a0"
      },
      "outputs": [
        {
          "output_type": "stream",
          "name": "stdout",
          "text": [
            "   Employee_ID   Name  Age Department  Salary\n",
            "0          101  Alice   25         HR   50000\n",
            "1          102    Bob   30         IT   70000\n",
            "2          103  Carol   22         IT   65000\n",
            "3          104   Dave   28    Finance   60000\n",
            "4          105    Eve   35         HR   55000\n",
            "<class 'pandas.core.frame.DataFrame'>\n",
            "RangeIndex: 5 entries, 0 to 4\n",
            "Data columns (total 5 columns):\n",
            " #   Column       Non-Null Count  Dtype \n",
            "---  ------       --------------  ----- \n",
            " 0   Employee_ID  5 non-null      int64 \n",
            " 1   Name         5 non-null      object\n",
            " 2   Age          5 non-null      int64 \n",
            " 3   Department   5 non-null      object\n",
            " 4   Salary       5 non-null      int64 \n",
            "dtypes: int64(3), object(2)\n",
            "memory usage: 332.0+ bytes\n",
            "None\n",
            "       Employee_ID        Age       Salary\n",
            "count     5.000000   5.000000      5.00000\n",
            "mean    103.000000  28.000000  60000.00000\n",
            "std       1.581139   4.949747   7905.69415\n",
            "min     101.000000  22.000000  50000.00000\n",
            "25%     102.000000  25.000000  55000.00000\n",
            "50%     103.000000  28.000000  60000.00000\n",
            "75%     104.000000  30.000000  65000.00000\n",
            "max     105.000000  35.000000  70000.00000\n"
          ]
        }
      ],
      "source": [
        "import pandas as pd\n",
        "df = pd.read_csv(\"employees.csv\")\n",
        "print(df.head())\n",
        "print(df.info())\n",
        "print(df.describe())"
      ]
    }
  ]
}