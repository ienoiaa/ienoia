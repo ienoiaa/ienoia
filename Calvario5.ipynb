{
  "nbformat": 4,
  "nbformat_minor": 0,
  "metadata": {
    "colab": {
      "provenance": [],
      "authorship_tag": "ABX9TyN16ej/U7lHoLOkRVDKMTEe",
      "include_colab_link": true
    },
    "kernelspec": {
      "name": "python3",
      "display_name": "Python 3"
    },
    "language_info": {
      "name": "python"
    }
  },
  "cells": [
    {
      "cell_type": "markdown",
      "metadata": {
        "id": "view-in-github",
        "colab_type": "text"
      },
      "source": [
        "<a href=\"https://colab.research.google.com/github/ienoiaa/ienoia/blob/master/Calvario5.ipynb\" target=\"_parent\"><img src=\"https://colab.research.google.com/assets/colab-badge.svg\" alt=\"Open In Colab\"/></a>"
      ]
    },
    {
      "cell_type": "markdown",
      "source": [
        "Activity - Data Transformation"
      ],
      "metadata": {
        "id": "P_mGlnUM8Q6m"
      }
    },
    {
      "cell_type": "markdown",
      "source": [
        "\n",
        "\n",
        "Importing Libraries\n",
        "\n"
      ],
      "metadata": {
        "id": "7ABvc3XMwaWe"
      }
    },
    {
      "cell_type": "code",
      "source": [
        "import pandas as pd\n",
        "import seaborn as sns\n",
        "import matplotlib.pyplot as plt"
      ],
      "metadata": {
        "id": "cEzWW0DXwtI2"
      },
      "execution_count": 16,
      "outputs": []
    },
    {
      "cell_type": "markdown",
      "source": [
        "2. Load and read the datasets in google colab."
      ],
      "metadata": {
        "id": "ZHEE3QAcwmM_"
      }
    },
    {
      "cell_type": "code",
      "source": [
        "math = pd.read_csv(\"student_grade_math.csv\")\n",
        "science = pd.read_csv(\"student_grade_science.csv\")\n",
        "\n",
        "print(\"Math Dataset Preview:\")\n",
        "print(math.head(), \"\\n\")\n",
        "\n",
        "print(\"Science Dataset Preview:\")\n",
        "print(science.head(), \"\\n\")"
      ],
      "metadata": {
        "colab": {
          "base_uri": "https://localhost:8080/"
        },
        "id": "FmjWrSHvwz9O",
        "outputId": "ac4549b8-cdda-4e67-f733-0723b8e3cde2"
      },
      "execution_count": 17,
      "outputs": [
        {
          "output_type": "stream",
          "name": "stdout",
          "text": [
            "Math Dataset Preview:\n",
            "  STUDENT GRADES       Unnamed: 1  Unnamed: 2\n",
            "0            NaN              NaN         NaN\n",
            "1           MALE              NaN         NaN\n",
            "2            No.             Name  Math grade\n",
            "3              1  Jones, Richard           57\n",
            "4              2   Jones, Charles          81 \n",
            "\n",
            "Science Dataset Preview:\n",
            "  STUDENT GRADES       Unnamed: 1     Unnamed: 2\n",
            "0            NaN              NaN            NaN\n",
            "1           MALE              NaN            NaN\n",
            "2            No.             Name  Science Grade\n",
            "3              1  Jones, Richard              90\n",
            "4              2   Jones, Charles             89 \n",
            "\n"
          ]
        }
      ]
    },
    {
      "cell_type": "code",
      "source": [
        "#Removing irrelevant header rows and keeping only useful columns\n",
        "\n",
        "math_clean = math.dropna().iloc[1:].reset_index(drop=True)\n",
        "science_clean = science.dropna().iloc[1:].reset_index(drop=True)\n",
        "\n",
        "#Rename columns properly\n",
        "math_clean.columns = [\"No\", \"Name\", \"Math\"]\n",
        "science_clean.columns = [\"No\", \"Name\", \"Science\"]"
      ],
      "metadata": {
        "id": "UCIJBybE6S6v"
      },
      "execution_count": 19,
      "outputs": []
    },
    {
      "cell_type": "markdown",
      "source": [
        "3.\tMerge the male and female and list them in alphabetical order. Do this for both math and science student grades dataset."
      ],
      "metadata": {
        "id": "JBTVwgb5x0gb"
      }
    },
    {
      "cell_type": "code",
      "source": [
        "print(\"Merged male and female in both subject by alphabetical order:\")\n",
        "math_sorted = math_clean.sort_values(by=\"Name\").reset_index(drop=True)\n",
        "science_sorted = science_clean.sort_values(by=\"Name\").reset_index(drop=True)\n",
        "\n",
        "print(math_sorted.head())\n",
        "print(science_sorted.head())"
      ],
      "metadata": {
        "id": "mZRtOyvax3Si",
        "colab": {
          "base_uri": "https://localhost:8080/"
        },
        "outputId": "9b46faf9-f72d-4b57-c822-1e7444459c0b"
      },
      "execution_count": 20,
      "outputs": [
        {
          "output_type": "stream",
          "name": "stdout",
          "text": [
            "Merged male and female in both subject by alphabetical order:\n",
            "   No              Name Math\n",
            "0   2   Brown, Patricia   96\n",
            "1   3   Brown, Richard   100\n",
            "2   5    Davis, Barbara   79\n",
            "3  10  Johnson, Barbara   89\n",
            "4   4   Johnson, James    55\n",
            "   No              Name Science\n",
            "0   2   Brown, Patricia      80\n",
            "1   3   Brown, Richard       63\n",
            "2   5    Davis, Barbara      60\n",
            "3  10  Johnson, Barbara      54\n",
            "4   4   Johnson, James       55\n"
          ]
        }
      ]
    },
    {
      "cell_type": "markdown",
      "source": [
        "4. Combine the two dataframes (student_grade_math and\n",
        "student_grade_science) and save the dataset. Name it &quot;student_grades&quot;"
      ],
      "metadata": {
        "id": "Ok0HbFKs6sKl"
      }
    },
    {
      "cell_type": "code",
      "source": [
        "print(\"Combined student grades:\")\n",
        "student_grades = pd.merge(math_sorted, science_sorted, on=[\"No\", \"Name\"], how=\"outer\")\n",
        "print(student_grades)"
      ],
      "metadata": {
        "colab": {
          "base_uri": "https://localhost:8080/"
        },
        "id": "j4g32b2d6xfY",
        "outputId": "c2aee854-b1a0-43bb-ae90-2b839a38adc9"
      },
      "execution_count": 22,
      "outputs": [
        {
          "output_type": "stream",
          "name": "stdout",
          "text": [
            "     No                 Name        Math        Science\n",
            "0     1      Jones, Richard           57             90\n",
            "1     1       Smith, Dorothy          92             57\n",
            "2    10     Johnson, Barbara          89             54\n",
            "3    10        Jones, James           72             86\n",
            "4    11         Miller, Mary          74             65\n",
            "5    11      Miller, Thomas          NaN             75\n",
            "6     2      Brown, Patricia          96             80\n",
            "7     2       Jones, Charles          81             89\n",
            "8     3      Brown, Richard          100             63\n",
            "9     3    Johnson, Jennifer          55             77\n",
            "10    4      Johnson, James           55             55\n",
            "11    4     Miller, Jennifer          76             51\n",
            "12    5       Davis, Barbara          79             60\n",
            "13    5   Rodriguez, Joseph           64             99\n",
            "14    6      Miller, Thomas           75             99\n",
            "15    6        Wilson, Maria          82            100\n",
            "16    7      Williams, John           71             89\n",
            "17    7      Wilson, Dorothy          77             84\n",
            "18    8    Johnson, Jennifer          55             77\n",
            "19    8  Rodriguez, Charles           71             93\n",
            "20    9    Miller, Elizabeth         NaN             84\n",
            "21    9       Smith, Thomas           50             68\n",
            "22  No.                 Name  Math grade  Science Grade\n"
          ]
        }
      ]
    },
    {
      "cell_type": "markdown",
      "source": [
        "5. Load and read the students_grades and add new column &quot;Average&quot;"
      ],
      "metadata": {
        "id": "wKgumUPi68Z0"
      }
    },
    {
      "cell_type": "code",
      "source": [
        "print(\"Adding new column 'Average':\")\n",
        "student_grades[\"Math\"] = pd.to_numeric(student_grades[\"Math\"], errors=\"coerce\")\n",
        "student_grades[\"Science\"] = pd.to_numeric(student_grades[\"Science\"], errors=\"coerce\")\n",
        "student_grades[\"Average\"] = student_grades[[\"Math\", \"Science\"]].mean(axis=1)\n",
        "\n",
        "print(student_grades)"
      ],
      "metadata": {
        "colab": {
          "base_uri": "https://localhost:8080/"
        },
        "id": "Rkvbv_KM6_86",
        "outputId": "6ca3b988-9aa8-4bf7-d61d-6ccbe16aa51f"
      },
      "execution_count": 23,
      "outputs": [
        {
          "output_type": "stream",
          "name": "stdout",
          "text": [
            "Adding new column 'Average':\n",
            "     No                 Name   Math  Science  Average\n",
            "0     1      Jones, Richard    57.0     90.0     73.5\n",
            "1     1       Smith, Dorothy   92.0     57.0     74.5\n",
            "2    10     Johnson, Barbara   89.0     54.0     71.5\n",
            "3    10        Jones, James    72.0     86.0     79.0\n",
            "4    11         Miller, Mary   74.0     65.0     69.5\n",
            "5    11      Miller, Thomas     NaN     75.0     75.0\n",
            "6     2      Brown, Patricia   96.0     80.0     88.0\n",
            "7     2       Jones, Charles   81.0     89.0     85.0\n",
            "8     3      Brown, Richard   100.0     63.0     81.5\n",
            "9     3    Johnson, Jennifer   55.0     77.0     66.0\n",
            "10    4      Johnson, James    55.0     55.0     55.0\n",
            "11    4     Miller, Jennifer   76.0     51.0     63.5\n",
            "12    5       Davis, Barbara   79.0     60.0     69.5\n",
            "13    5   Rodriguez, Joseph    64.0     99.0     81.5\n",
            "14    6      Miller, Thomas    75.0     99.0     87.0\n",
            "15    6        Wilson, Maria   82.0    100.0     91.0\n",
            "16    7      Williams, John    71.0     89.0     80.0\n",
            "17    7      Wilson, Dorothy   77.0     84.0     80.5\n",
            "18    8    Johnson, Jennifer   55.0     77.0     66.0\n",
            "19    8  Rodriguez, Charles    71.0     93.0     82.0\n",
            "20    9    Miller, Elizabeth    NaN     84.0     84.0\n",
            "21    9       Smith, Thomas    50.0     68.0     59.0\n",
            "22  No.                 Name    NaN      NaN      NaN\n"
          ]
        }
      ]
    },
    {
      "cell_type": "markdown",
      "source": [
        "6. Reshaping with the Average (highest to lowest average)"
      ],
      "metadata": {
        "id": "NfhBYMJq7IuT"
      }
    },
    {
      "cell_type": "code",
      "source": [
        "print(\"Highest to Lowest Average:\")\n",
        "student_grades = student_grades.sort_values(by=\"Average\", ascending=False)\n",
        "\n",
        "print(student_grades)"
      ],
      "metadata": {
        "colab": {
          "base_uri": "https://localhost:8080/"
        },
        "id": "ieTdl8tN7M7I",
        "outputId": "8551405f-cab4-4b5a-a624-2a3260f81164"
      },
      "execution_count": 26,
      "outputs": [
        {
          "output_type": "stream",
          "name": "stdout",
          "text": [
            "Highest to Lowest Average:\n",
            "     No                 Name   Math  Science  Average\n",
            "15    6        Wilson, Maria   82.0    100.0     91.0\n",
            "6     2      Brown, Patricia   96.0     80.0     88.0\n",
            "14    6      Miller, Thomas    75.0     99.0     87.0\n",
            "7     2       Jones, Charles   81.0     89.0     85.0\n",
            "20    9    Miller, Elizabeth    NaN     84.0     84.0\n",
            "19    8  Rodriguez, Charles    71.0     93.0     82.0\n",
            "8     3      Brown, Richard   100.0     63.0     81.5\n",
            "13    5   Rodriguez, Joseph    64.0     99.0     81.5\n",
            "17    7      Wilson, Dorothy   77.0     84.0     80.5\n",
            "16    7      Williams, John    71.0     89.0     80.0\n",
            "3    10        Jones, James    72.0     86.0     79.0\n",
            "5    11      Miller, Thomas     NaN     75.0     75.0\n",
            "1     1       Smith, Dorothy   92.0     57.0     74.5\n",
            "0     1      Jones, Richard    57.0     90.0     73.5\n",
            "2    10     Johnson, Barbara   89.0     54.0     71.5\n",
            "4    11         Miller, Mary   74.0     65.0     69.5\n",
            "12    5       Davis, Barbara   79.0     60.0     69.5\n",
            "9     3    Johnson, Jennifer   55.0     77.0     66.0\n",
            "18    8    Johnson, Jennifer   55.0     77.0     66.0\n",
            "11    4     Miller, Jennifer   76.0     51.0     63.5\n",
            "21    9       Smith, Thomas    50.0     68.0     59.0\n",
            "10    4      Johnson, James    55.0     55.0     55.0\n",
            "22  No.                 Name    NaN      NaN      NaN\n"
          ]
        }
      ]
    },
    {
      "cell_type": "markdown",
      "source": [
        "7. Remove data duplications"
      ],
      "metadata": {
        "id": "J5cpJXJQ7RH2"
      }
    },
    {
      "cell_type": "code",
      "source": [
        "print(\"Removing data duplications:\")\n",
        "student_grades = student_grades.drop_duplicates(subset=['Name'], keep='first')\n",
        "print(student_grades)"
      ],
      "metadata": {
        "colab": {
          "base_uri": "https://localhost:8080/"
        },
        "id": "-N-aIq6w7V1R",
        "outputId": "a21df875-8c74-43d0-e2b8-53699eb15a58"
      },
      "execution_count": 27,
      "outputs": [
        {
          "output_type": "stream",
          "name": "stdout",
          "text": [
            "Removing data duplications:\n",
            "     No                 Name   Math  Science  Average\n",
            "15    6        Wilson, Maria   82.0    100.0     91.0\n",
            "6     2      Brown, Patricia   96.0     80.0     88.0\n",
            "14    6      Miller, Thomas    75.0     99.0     87.0\n",
            "7     2       Jones, Charles   81.0     89.0     85.0\n",
            "20    9    Miller, Elizabeth    NaN     84.0     84.0\n",
            "19    8  Rodriguez, Charles    71.0     93.0     82.0\n",
            "8     3      Brown, Richard   100.0     63.0     81.5\n",
            "13    5   Rodriguez, Joseph    64.0     99.0     81.5\n",
            "17    7      Wilson, Dorothy   77.0     84.0     80.5\n",
            "16    7      Williams, John    71.0     89.0     80.0\n",
            "3    10        Jones, James    72.0     86.0     79.0\n",
            "1     1       Smith, Dorothy   92.0     57.0     74.5\n",
            "0     1      Jones, Richard    57.0     90.0     73.5\n",
            "2    10     Johnson, Barbara   89.0     54.0     71.5\n",
            "4    11         Miller, Mary   74.0     65.0     69.5\n",
            "12    5       Davis, Barbara   79.0     60.0     69.5\n",
            "9     3    Johnson, Jennifer   55.0     77.0     66.0\n",
            "11    4     Miller, Jennifer   76.0     51.0     63.5\n",
            "21    9       Smith, Thomas    50.0     68.0     59.0\n",
            "10    4      Johnson, James    55.0     55.0     55.0\n",
            "22  No.                 Name    NaN      NaN      NaN\n"
          ]
        }
      ]
    },
    {
      "cell_type": "markdown",
      "source": [
        "8. Remove null, missing, and irrelevant data."
      ],
      "metadata": {
        "id": "AJIv2Vqa7bQt"
      }
    },
    {
      "cell_type": "code",
      "source": [
        "print(\"Removing null, missing, and irrelevant data:\")\n",
        "student_grades = student_grades.dropna()\n",
        "print(student_grades)"
      ],
      "metadata": {
        "colab": {
          "base_uri": "https://localhost:8080/"
        },
        "id": "UVGhekfQ7gJW",
        "outputId": "02a94537-a88f-4183-f44f-0fcd65582fb1"
      },
      "execution_count": 28,
      "outputs": [
        {
          "output_type": "stream",
          "name": "stdout",
          "text": [
            "Removing null, missing, and irrelevant data:\n",
            "    No                 Name   Math  Science  Average\n",
            "15   6        Wilson, Maria   82.0    100.0     91.0\n",
            "6    2      Brown, Patricia   96.0     80.0     88.0\n",
            "14   6      Miller, Thomas    75.0     99.0     87.0\n",
            "7    2       Jones, Charles   81.0     89.0     85.0\n",
            "19   8  Rodriguez, Charles    71.0     93.0     82.0\n",
            "8    3      Brown, Richard   100.0     63.0     81.5\n",
            "13   5   Rodriguez, Joseph    64.0     99.0     81.5\n",
            "17   7      Wilson, Dorothy   77.0     84.0     80.5\n",
            "16   7      Williams, John    71.0     89.0     80.0\n",
            "3   10        Jones, James    72.0     86.0     79.0\n",
            "1    1       Smith, Dorothy   92.0     57.0     74.5\n",
            "0    1      Jones, Richard    57.0     90.0     73.5\n",
            "2   10     Johnson, Barbara   89.0     54.0     71.5\n",
            "4   11         Miller, Mary   74.0     65.0     69.5\n",
            "12   5       Davis, Barbara   79.0     60.0     69.5\n",
            "9    3    Johnson, Jennifer   55.0     77.0     66.0\n",
            "11   4     Miller, Jennifer   76.0     51.0     63.5\n",
            "21   9       Smith, Thomas    50.0     68.0     59.0\n",
            "10   4      Johnson, James    55.0     55.0     55.0\n"
          ]
        }
      ]
    },
    {
      "cell_type": "code",
      "source": [
        "#Checking the first 10 rows\n",
        "\n",
        "student_grades.head(10)"
      ],
      "metadata": {
        "colab": {
          "base_uri": "https://localhost:8080/",
          "height": 363
        },
        "id": "ugc_fbf77lO3",
        "outputId": "0647e0ff-7a7f-47fe-f9fb-9a5da3a74810"
      },
      "execution_count": 29,
      "outputs": [
        {
          "output_type": "execute_result",
          "data": {
            "text/plain": [
              "    No                 Name   Math  Science  Average\n",
              "15   6        Wilson, Maria   82.0    100.0     91.0\n",
              "6    2      Brown, Patricia   96.0     80.0     88.0\n",
              "14   6      Miller, Thomas    75.0     99.0     87.0\n",
              "7    2       Jones, Charles   81.0     89.0     85.0\n",
              "19   8  Rodriguez, Charles    71.0     93.0     82.0\n",
              "8    3      Brown, Richard   100.0     63.0     81.5\n",
              "13   5   Rodriguez, Joseph    64.0     99.0     81.5\n",
              "17   7      Wilson, Dorothy   77.0     84.0     80.5\n",
              "16   7      Williams, John    71.0     89.0     80.0\n",
              "3   10        Jones, James    72.0     86.0     79.0"
            ],
            "text/html": [
              "\n",
              "  <div id=\"df-63a15acf-546e-41ce-8489-1f25210fa1ac\" class=\"colab-df-container\">\n",
              "    <div>\n",
              "<style scoped>\n",
              "    .dataframe tbody tr th:only-of-type {\n",
              "        vertical-align: middle;\n",
              "    }\n",
              "\n",
              "    .dataframe tbody tr th {\n",
              "        vertical-align: top;\n",
              "    }\n",
              "\n",
              "    .dataframe thead th {\n",
              "        text-align: right;\n",
              "    }\n",
              "</style>\n",
              "<table border=\"1\" class=\"dataframe\">\n",
              "  <thead>\n",
              "    <tr style=\"text-align: right;\">\n",
              "      <th></th>\n",
              "      <th>No</th>\n",
              "      <th>Name</th>\n",
              "      <th>Math</th>\n",
              "      <th>Science</th>\n",
              "      <th>Average</th>\n",
              "    </tr>\n",
              "  </thead>\n",
              "  <tbody>\n",
              "    <tr>\n",
              "      <th>15</th>\n",
              "      <td>6</td>\n",
              "      <td>Wilson, Maria</td>\n",
              "      <td>82.0</td>\n",
              "      <td>100.0</td>\n",
              "      <td>91.0</td>\n",
              "    </tr>\n",
              "    <tr>\n",
              "      <th>6</th>\n",
              "      <td>2</td>\n",
              "      <td>Brown, Patricia</td>\n",
              "      <td>96.0</td>\n",
              "      <td>80.0</td>\n",
              "      <td>88.0</td>\n",
              "    </tr>\n",
              "    <tr>\n",
              "      <th>14</th>\n",
              "      <td>6</td>\n",
              "      <td>Miller, Thomas</td>\n",
              "      <td>75.0</td>\n",
              "      <td>99.0</td>\n",
              "      <td>87.0</td>\n",
              "    </tr>\n",
              "    <tr>\n",
              "      <th>7</th>\n",
              "      <td>2</td>\n",
              "      <td>Jones, Charles</td>\n",
              "      <td>81.0</td>\n",
              "      <td>89.0</td>\n",
              "      <td>85.0</td>\n",
              "    </tr>\n",
              "    <tr>\n",
              "      <th>19</th>\n",
              "      <td>8</td>\n",
              "      <td>Rodriguez, Charles</td>\n",
              "      <td>71.0</td>\n",
              "      <td>93.0</td>\n",
              "      <td>82.0</td>\n",
              "    </tr>\n",
              "    <tr>\n",
              "      <th>8</th>\n",
              "      <td>3</td>\n",
              "      <td>Brown, Richard</td>\n",
              "      <td>100.0</td>\n",
              "      <td>63.0</td>\n",
              "      <td>81.5</td>\n",
              "    </tr>\n",
              "    <tr>\n",
              "      <th>13</th>\n",
              "      <td>5</td>\n",
              "      <td>Rodriguez, Joseph</td>\n",
              "      <td>64.0</td>\n",
              "      <td>99.0</td>\n",
              "      <td>81.5</td>\n",
              "    </tr>\n",
              "    <tr>\n",
              "      <th>17</th>\n",
              "      <td>7</td>\n",
              "      <td>Wilson, Dorothy</td>\n",
              "      <td>77.0</td>\n",
              "      <td>84.0</td>\n",
              "      <td>80.5</td>\n",
              "    </tr>\n",
              "    <tr>\n",
              "      <th>16</th>\n",
              "      <td>7</td>\n",
              "      <td>Williams, John</td>\n",
              "      <td>71.0</td>\n",
              "      <td>89.0</td>\n",
              "      <td>80.0</td>\n",
              "    </tr>\n",
              "    <tr>\n",
              "      <th>3</th>\n",
              "      <td>10</td>\n",
              "      <td>Jones, James</td>\n",
              "      <td>72.0</td>\n",
              "      <td>86.0</td>\n",
              "      <td>79.0</td>\n",
              "    </tr>\n",
              "  </tbody>\n",
              "</table>\n",
              "</div>\n",
              "    <div class=\"colab-df-buttons\">\n",
              "\n",
              "  <div class=\"colab-df-container\">\n",
              "    <button class=\"colab-df-convert\" onclick=\"convertToInteractive('df-63a15acf-546e-41ce-8489-1f25210fa1ac')\"\n",
              "            title=\"Convert this dataframe to an interactive table.\"\n",
              "            style=\"display:none;\">\n",
              "\n",
              "  <svg xmlns=\"http://www.w3.org/2000/svg\" height=\"24px\" viewBox=\"0 -960 960 960\">\n",
              "    <path d=\"M120-120v-720h720v720H120Zm60-500h600v-160H180v160Zm220 220h160v-160H400v160Zm0 220h160v-160H400v160ZM180-400h160v-160H180v160Zm440 0h160v-160H620v160ZM180-180h160v-160H180v160Zm440 0h160v-160H620v160Z\"/>\n",
              "  </svg>\n",
              "    </button>\n",
              "\n",
              "  <style>\n",
              "    .colab-df-container {\n",
              "      display:flex;\n",
              "      gap: 12px;\n",
              "    }\n",
              "\n",
              "    .colab-df-convert {\n",
              "      background-color: #E8F0FE;\n",
              "      border: none;\n",
              "      border-radius: 50%;\n",
              "      cursor: pointer;\n",
              "      display: none;\n",
              "      fill: #1967D2;\n",
              "      height: 32px;\n",
              "      padding: 0 0 0 0;\n",
              "      width: 32px;\n",
              "    }\n",
              "\n",
              "    .colab-df-convert:hover {\n",
              "      background-color: #E2EBFA;\n",
              "      box-shadow: 0px 1px 2px rgba(60, 64, 67, 0.3), 0px 1px 3px 1px rgba(60, 64, 67, 0.15);\n",
              "      fill: #174EA6;\n",
              "    }\n",
              "\n",
              "    .colab-df-buttons div {\n",
              "      margin-bottom: 4px;\n",
              "    }\n",
              "\n",
              "    [theme=dark] .colab-df-convert {\n",
              "      background-color: #3B4455;\n",
              "      fill: #D2E3FC;\n",
              "    }\n",
              "\n",
              "    [theme=dark] .colab-df-convert:hover {\n",
              "      background-color: #434B5C;\n",
              "      box-shadow: 0px 1px 3px 1px rgba(0, 0, 0, 0.15);\n",
              "      filter: drop-shadow(0px 1px 2px rgba(0, 0, 0, 0.3));\n",
              "      fill: #FFFFFF;\n",
              "    }\n",
              "  </style>\n",
              "\n",
              "    <script>\n",
              "      const buttonEl =\n",
              "        document.querySelector('#df-63a15acf-546e-41ce-8489-1f25210fa1ac button.colab-df-convert');\n",
              "      buttonEl.style.display =\n",
              "        google.colab.kernel.accessAllowed ? 'block' : 'none';\n",
              "\n",
              "      async function convertToInteractive(key) {\n",
              "        const element = document.querySelector('#df-63a15acf-546e-41ce-8489-1f25210fa1ac');\n",
              "        const dataTable =\n",
              "          await google.colab.kernel.invokeFunction('convertToInteractive',\n",
              "                                                    [key], {});\n",
              "        if (!dataTable) return;\n",
              "\n",
              "        const docLinkHtml = 'Like what you see? Visit the ' +\n",
              "          '<a target=\"_blank\" href=https://colab.research.google.com/notebooks/data_table.ipynb>data table notebook</a>'\n",
              "          + ' to learn more about interactive tables.';\n",
              "        element.innerHTML = '';\n",
              "        dataTable['output_type'] = 'display_data';\n",
              "        await google.colab.output.renderOutput(dataTable, element);\n",
              "        const docLink = document.createElement('div');\n",
              "        docLink.innerHTML = docLinkHtml;\n",
              "        element.appendChild(docLink);\n",
              "      }\n",
              "    </script>\n",
              "  </div>\n",
              "\n",
              "\n",
              "    <div id=\"df-fcf05267-0701-4db3-ad53-b0a234a1f261\">\n",
              "      <button class=\"colab-df-quickchart\" onclick=\"quickchart('df-fcf05267-0701-4db3-ad53-b0a234a1f261')\"\n",
              "                title=\"Suggest charts\"\n",
              "                style=\"display:none;\">\n",
              "\n",
              "<svg xmlns=\"http://www.w3.org/2000/svg\" height=\"24px\"viewBox=\"0 0 24 24\"\n",
              "     width=\"24px\">\n",
              "    <g>\n",
              "        <path d=\"M19 3H5c-1.1 0-2 .9-2 2v14c0 1.1.9 2 2 2h14c1.1 0 2-.9 2-2V5c0-1.1-.9-2-2-2zM9 17H7v-7h2v7zm4 0h-2V7h2v10zm4 0h-2v-4h2v4z\"/>\n",
              "    </g>\n",
              "</svg>\n",
              "      </button>\n",
              "\n",
              "<style>\n",
              "  .colab-df-quickchart {\n",
              "      --bg-color: #E8F0FE;\n",
              "      --fill-color: #1967D2;\n",
              "      --hover-bg-color: #E2EBFA;\n",
              "      --hover-fill-color: #174EA6;\n",
              "      --disabled-fill-color: #AAA;\n",
              "      --disabled-bg-color: #DDD;\n",
              "  }\n",
              "\n",
              "  [theme=dark] .colab-df-quickchart {\n",
              "      --bg-color: #3B4455;\n",
              "      --fill-color: #D2E3FC;\n",
              "      --hover-bg-color: #434B5C;\n",
              "      --hover-fill-color: #FFFFFF;\n",
              "      --disabled-bg-color: #3B4455;\n",
              "      --disabled-fill-color: #666;\n",
              "  }\n",
              "\n",
              "  .colab-df-quickchart {\n",
              "    background-color: var(--bg-color);\n",
              "    border: none;\n",
              "    border-radius: 50%;\n",
              "    cursor: pointer;\n",
              "    display: none;\n",
              "    fill: var(--fill-color);\n",
              "    height: 32px;\n",
              "    padding: 0;\n",
              "    width: 32px;\n",
              "  }\n",
              "\n",
              "  .colab-df-quickchart:hover {\n",
              "    background-color: var(--hover-bg-color);\n",
              "    box-shadow: 0 1px 2px rgba(60, 64, 67, 0.3), 0 1px 3px 1px rgba(60, 64, 67, 0.15);\n",
              "    fill: var(--button-hover-fill-color);\n",
              "  }\n",
              "\n",
              "  .colab-df-quickchart-complete:disabled,\n",
              "  .colab-df-quickchart-complete:disabled:hover {\n",
              "    background-color: var(--disabled-bg-color);\n",
              "    fill: var(--disabled-fill-color);\n",
              "    box-shadow: none;\n",
              "  }\n",
              "\n",
              "  .colab-df-spinner {\n",
              "    border: 2px solid var(--fill-color);\n",
              "    border-color: transparent;\n",
              "    border-bottom-color: var(--fill-color);\n",
              "    animation:\n",
              "      spin 1s steps(1) infinite;\n",
              "  }\n",
              "\n",
              "  @keyframes spin {\n",
              "    0% {\n",
              "      border-color: transparent;\n",
              "      border-bottom-color: var(--fill-color);\n",
              "      border-left-color: var(--fill-color);\n",
              "    }\n",
              "    20% {\n",
              "      border-color: transparent;\n",
              "      border-left-color: var(--fill-color);\n",
              "      border-top-color: var(--fill-color);\n",
              "    }\n",
              "    30% {\n",
              "      border-color: transparent;\n",
              "      border-left-color: var(--fill-color);\n",
              "      border-top-color: var(--fill-color);\n",
              "      border-right-color: var(--fill-color);\n",
              "    }\n",
              "    40% {\n",
              "      border-color: transparent;\n",
              "      border-right-color: var(--fill-color);\n",
              "      border-top-color: var(--fill-color);\n",
              "    }\n",
              "    60% {\n",
              "      border-color: transparent;\n",
              "      border-right-color: var(--fill-color);\n",
              "    }\n",
              "    80% {\n",
              "      border-color: transparent;\n",
              "      border-right-color: var(--fill-color);\n",
              "      border-bottom-color: var(--fill-color);\n",
              "    }\n",
              "    90% {\n",
              "      border-color: transparent;\n",
              "      border-bottom-color: var(--fill-color);\n",
              "    }\n",
              "  }\n",
              "</style>\n",
              "\n",
              "      <script>\n",
              "        async function quickchart(key) {\n",
              "          const quickchartButtonEl =\n",
              "            document.querySelector('#' + key + ' button');\n",
              "          quickchartButtonEl.disabled = true;  // To prevent multiple clicks.\n",
              "          quickchartButtonEl.classList.add('colab-df-spinner');\n",
              "          try {\n",
              "            const charts = await google.colab.kernel.invokeFunction(\n",
              "                'suggestCharts', [key], {});\n",
              "          } catch (error) {\n",
              "            console.error('Error during call to suggestCharts:', error);\n",
              "          }\n",
              "          quickchartButtonEl.classList.remove('colab-df-spinner');\n",
              "          quickchartButtonEl.classList.add('colab-df-quickchart-complete');\n",
              "        }\n",
              "        (() => {\n",
              "          let quickchartButtonEl =\n",
              "            document.querySelector('#df-fcf05267-0701-4db3-ad53-b0a234a1f261 button');\n",
              "          quickchartButtonEl.style.display =\n",
              "            google.colab.kernel.accessAllowed ? 'block' : 'none';\n",
              "        })();\n",
              "      </script>\n",
              "    </div>\n",
              "\n",
              "    </div>\n",
              "  </div>\n"
            ],
            "application/vnd.google.colaboratory.intrinsic+json": {
              "type": "dataframe",
              "variable_name": "student_grades",
              "summary": "{\n  \"name\": \"student_grades\",\n  \"rows\": 19,\n  \"fields\": [\n    {\n      \"column\": \"No\",\n      \"properties\": {\n        \"dtype\": \"string\",\n        \"num_unique_values\": 11,\n        \"samples\": [\n          \"7\",\n          \"6\",\n          \"4\"\n        ],\n        \"semantic_type\": \"\",\n        \"description\": \"\"\n      }\n    },\n    {\n      \"column\": \"Name\",\n      \"properties\": {\n        \"dtype\": \"string\",\n        \"num_unique_values\": 19,\n        \"samples\": [\n          \"Wilson, Maria\",\n          \"Brown, Richard \",\n          \"Jones, Richard \"\n        ],\n        \"semantic_type\": \"\",\n        \"description\": \"\"\n      }\n    },\n    {\n      \"column\": \"Math\",\n      \"properties\": {\n        \"dtype\": \"number\",\n        \"std\": 14.07270179007978,\n        \"min\": 50.0,\n        \"max\": 100.0,\n        \"num_unique_values\": 17,\n        \"samples\": [\n          82.0,\n          96.0,\n          100.0\n        ],\n        \"semantic_type\": \"\",\n        \"description\": \"\"\n      }\n    },\n    {\n      \"column\": \"Science\",\n      \"properties\": {\n        \"dtype\": \"number\",\n        \"std\": 16.910151281826813,\n        \"min\": 51.0,\n        \"max\": 100.0,\n        \"num_unique_values\": 17,\n        \"samples\": [\n          100.0,\n          80.0,\n          63.0\n        ],\n        \"semantic_type\": \"\",\n        \"description\": \"\"\n      }\n    },\n    {\n      \"column\": \"Average\",\n      \"properties\": {\n        \"dtype\": \"number\",\n        \"std\": 10.02781220126602,\n        \"min\": 55.0,\n        \"max\": 91.0,\n        \"num_unique_values\": 17,\n        \"samples\": [\n          91.0,\n          88.0,\n          81.5\n        ],\n        \"semantic_type\": \"\",\n        \"description\": \"\"\n      }\n    }\n  ]\n}"
            }
          },
          "metadata": {},
          "execution_count": 29
        }
      ]
    },
    {
      "cell_type": "markdown",
      "source": [
        "9. Submit your csv file (student_grades) and notebook (ipynb)."
      ],
      "metadata": {
        "id": "h9yJZBRD7seP"
      }
    },
    {
      "cell_type": "code",
      "source": [
        "student_grades.to_csv(\"student_grades.csv\", index=False)\n",
        "\n",
        "from google.colab import files\n",
        "files.download(\"student_grades.csv\")"
      ],
      "metadata": {
        "colab": {
          "base_uri": "https://localhost:8080/",
          "height": 17
        },
        "id": "njc-IzNb7ra7",
        "outputId": "b22b8d29-0922-45c5-b466-3ce35ea584c3"
      },
      "execution_count": 30,
      "outputs": [
        {
          "output_type": "display_data",
          "data": {
            "text/plain": [
              "<IPython.core.display.Javascript object>"
            ],
            "application/javascript": [
              "\n",
              "    async function download(id, filename, size) {\n",
              "      if (!google.colab.kernel.accessAllowed) {\n",
              "        return;\n",
              "      }\n",
              "      const div = document.createElement('div');\n",
              "      const label = document.createElement('label');\n",
              "      label.textContent = `Downloading \"${filename}\": `;\n",
              "      div.appendChild(label);\n",
              "      const progress = document.createElement('progress');\n",
              "      progress.max = size;\n",
              "      div.appendChild(progress);\n",
              "      document.body.appendChild(div);\n",
              "\n",
              "      const buffers = [];\n",
              "      let downloaded = 0;\n",
              "\n",
              "      const channel = await google.colab.kernel.comms.open(id);\n",
              "      // Send a message to notify the kernel that we're ready.\n",
              "      channel.send({})\n",
              "\n",
              "      for await (const message of channel.messages) {\n",
              "        // Send a message to notify the kernel that we're ready.\n",
              "        channel.send({})\n",
              "        if (message.buffers) {\n",
              "          for (const buffer of message.buffers) {\n",
              "            buffers.push(buffer);\n",
              "            downloaded += buffer.byteLength;\n",
              "            progress.value = downloaded;\n",
              "          }\n",
              "        }\n",
              "      }\n",
              "      const blob = new Blob(buffers, {type: 'application/binary'});\n",
              "      const a = document.createElement('a');\n",
              "      a.href = window.URL.createObjectURL(blob);\n",
              "      a.download = filename;\n",
              "      div.appendChild(a);\n",
              "      a.click();\n",
              "      div.remove();\n",
              "    }\n",
              "  "
            ]
          },
          "metadata": {}
        },
        {
          "output_type": "display_data",
          "data": {
            "text/plain": [
              "<IPython.core.display.Javascript object>"
            ],
            "application/javascript": [
              "download(\"download_62a550a8-2375-4560-818a-1a77780d25f6\", \"student_grades.csv\", 699)"
            ]
          },
          "metadata": {}
        }
      ]
    }
  ]
}