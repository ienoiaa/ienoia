{
  "nbformat": 4,
  "nbformat_minor": 0,
  "metadata": {
    "colab": {
      "provenance": [],
      "authorship_tag": "ABX9TyNQnj9eLecwfFcWd9HYrwoI",
      "include_colab_link": true
    },
    "kernelspec": {
      "name": "python3",
      "display_name": "Python 3"
    },
    "language_info": {
      "name": "python"
    }
  },
  "cells": [
    {
      "cell_type": "markdown",
      "metadata": {
        "id": "view-in-github",
        "colab_type": "text"
      },
      "source": [
        "<a href=\"https://colab.research.google.com/github/ienoiaa/ienoia/blob/master/Lab5.ipynb\" target=\"_parent\"><img src=\"https://colab.research.google.com/assets/colab-badge.svg\" alt=\"Open In Colab\"/></a>"
      ]
    },
    {
      "cell_type": "code",
      "execution_count": 1,
      "metadata": {
        "colab": {
          "base_uri": "https://localhost:8080/"
        },
        "id": "4BzvC83W4rhA",
        "outputId": "629ea82a-cb13-4cf9-f018-d57a9da1c13b"
      },
      "outputs": [
        {
          "output_type": "stream",
          "name": "stdout",
          "text": [
            "          Quantity   Price\n",
            "Product                   \n",
            "Keyboard       1.0     NaN\n",
            "Laptop         5.0  1450.0\n",
            "Monitor        1.0   300.0\n",
            "Mouse          0.0    25.0\n"
          ]
        }
      ],
      "source": [
        "import pandas as pd\n",
        "df = pd.read_csv(\"sales.csv\")\n",
        "sales_summary = df.groupby(\"Product\").agg({\n",
        "\"Quantity\": \"sum\",\n",
        "\"Price\": \"mean\"\n",
        "})\n",
        "print(sales_summary)"
      ]
    }
  ]
}